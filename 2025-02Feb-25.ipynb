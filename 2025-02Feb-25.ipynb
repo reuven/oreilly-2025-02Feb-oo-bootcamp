{
 "cells": [
  {
   "cell_type": "markdown",
   "metadata": {},
   "source": [
    "# Agenda\n",
    "\n",
    "1. Intro to objects\n",
    "    - What are objects?\n",
    "    - In Python, everything is an object\n",
    "    - Creating your own data structures (in general)\n",
    "    - Creating your own data structures (as classes/objects)\n",
    "    - What happens when you create a new object?\n",
    "    - Attributes\n",
    "    - Complex objects and composition\n",
    "2. Methods\n",
    "    - Writing methods\n",
    "    - The `self` parameter, and what it means/does\n",
    "    - Other parameters and passing arguments\n",
    "3. Magic methods\n",
    "4. Class attributes\n",
    "5. Attribute lookup (ICPO rule)\n",
    "6. Inheritance\n",
    "    - The three paradigms of method inheritance\n",
    "    - Attribute inheritance -- what it means, and how it works\n",
    "7. Next steps -- where to from here?"
   ]
  },
  {
   "cell_type": "markdown",
   "metadata": {},
   "source": [
    "# What are objects?\n",
    "\n",
    "We know that software has traditionally been hard to write and even harder to maintain. \n",
    "\n",
    "Back in the 1970s, people thought about this a lot. One of them is named Alan Kay. He thought about how to create a programming language that would make it easier to write code, and also easier to understand/maintain code. One of this thoughts was that we could create software like a biological system -- those systems are made up of cells, with each type of cell performing a different job. What if we could create different types of \"cells\" in our code, each defined very clearly, and then assemble our software from these different types of cells, depending on what functionality we wanted?\n",
    "\n",
    "This was the beginning of object-oriented programming:\n",
    "\n",
    "- Instead of cells, we talk about \"objects\"\n",
    "- Instead of types of cells, we talk about \"classes\" (or \"types\")f\n",
    "- Cells send messages to one another to pass information -- in object-oriented programming, we use \"methods\"\n",
    "\n",
    "Kay invented a language called Smalltalk that implemented this. Smalltalk never really took off as a language. But its influence is everywhere, because nearly every modern programming language is object-oriented in some way or another. This is because objects are generally seen as making our code easier to understand and maintain.\n",
    "\n",
    "Object-oriented programming is *not* a panacea for all software problems. \n",
    "\n",
    "It is a technique for managing and organizing your code.\n",
    "\n",
    "Do you always need to use objects? Python says \"no,\" that it's a good and useful technique, but you don't need to use it everywhere. However, the underlying Python language uses objects everywhere... if you understand how objects work in Python, then you also have a better understanding of how the language itself works, and how to use it."
   ]
  },
  {
   "cell_type": "markdown",
   "metadata": {},
   "source": [
    "# Everything is an object\n",
    "\n",
    "What does this mean? Why should I care?\n",
    "\n",
    "If we say that everything in Python is an object, it means:\n",
    "\n",
    "- We can apply the same rules to our data types as we do to built-in data types in Python.\n",
    "- It means that the same rules apply to all data structures, both internal and user-defined -- that makes the langauge consistent and easier to use\n",
    "- If we want to extend/improve the system, there is a clear framework for doing so.\n",
    "\n",
    "Once you learn how Python works, and how it treats its objects, then you can use that same information on your own data structures.\n",
    "\n"
   ]
  },
  {
   "cell_type": "markdown",
   "metadata": {},
   "source": [
    "# Vocabulary\n",
    "\n",
    "- `class` and `type` -- These are, when we're discussing objects, interchangeable. The word in Python (when you're coding) do have different meanings and uses, but we'll get to that. A class is a data type, and it's also a factory for objects of that type. If you have a string in Python, it's really a \"string object,\" and it was created by `str`, its type.\n",
    "    - `str` is a type\n",
    "    - `str` is a class\n",
    "    - `str` creates all strings in Python\n",
    "- If we want to create a new value of type `X`, then we'll invoke `X()`, and get that new value back.\n",
    "- `instance` -- when I created a new string object, we could say that I was creating a new \"instance\" of `str`. A class is a factory for objects of that type, or (phrased differently) for instances of that type. Everything in Python is an object, so everything is an instance of some type. What type? We just have to use the `type` function to find out.\n",
    "- `object` -- this word is overused in the world of object-oriented programming. It basically means \"a value.\" Sometimes, when we say \"object,\" we mean \"any value in Python.\" Sometimes, we mean \"an instance of a type.\" I can say that `s` is a \"string object,\" or I can say that it's an \"instance of `str`.\" Both are acceptable. You could argue that `object` and `instance` are roughly interchangeable."
   ]
  },
  {
   "cell_type": "code",
   "execution_count": 1,
   "metadata": {},
   "outputs": [
    {
     "data": {
      "text/plain": [
       "'5'"
      ]
     },
     "execution_count": 1,
     "metadata": {},
     "output_type": "execute_result"
    }
   ],
   "source": [
    "str(5)  # this will return a new string object"
   ]
  },
  {
   "cell_type": "code",
   "execution_count": 2,
   "metadata": {},
   "outputs": [],
   "source": [
    "s = str(5)  # now we assign that object to the variable s"
   ]
  },
  {
   "cell_type": "code",
   "execution_count": 3,
   "metadata": {},
   "outputs": [
    {
     "data": {
      "text/plain": [
       "str"
      ]
     },
     "execution_count": 3,
     "metadata": {},
     "output_type": "execute_result"
    }
   ],
   "source": [
    "type(s)     # what kind of value is stored in s?"
   ]
  },
  {
   "cell_type": "markdown",
   "metadata": {},
   "source": [
    "# So what?\n",
    "\n",
    "The type/class of an object determines its functionality:\n",
    "\n",
    "- What data does it store?\n",
    "- What methods can we invoke on it?\n",
    "- What operators can we use with it?\n",
    "- What inputs can get it, and what outputs does it provide?\n",
    "\n",
    "We know that strings behave differently from integers, which behave differently from dictionaries. We can define our own types that will behave differently, too.\n",
    "\n",
    "If you want, you can think of a class as a factory for objects. We can have a car factory that puts out one type of car. If we want a different type of car, or maybe a bus or an airplane or a train, we'll need a different type of factory (that is, another class)."
   ]
  },
  {
   "cell_type": "markdown",
   "metadata": {},
   "source": [
    "# We don't need objects! (But they're useful)\n",
    "\n",
    "Let's say that I want to keep track of a person. I don't need a special class to do that; I can just use a tuple:"
   ]
  },
  {
   "cell_type": "code",
   "execution_count": 4,
   "metadata": {},
   "outputs": [],
   "source": [
    "p = ('Reuven', 'Lerner', 46)   # here, I've defined a 3-element tuple"
   ]
  },
  {
   "cell_type": "code",
   "execution_count": 5,
   "metadata": {},
   "outputs": [
    {
     "data": {
      "text/plain": [
       "'Reuven'"
      ]
     },
     "execution_count": 5,
     "metadata": {},
     "output_type": "execute_result"
    }
   ],
   "source": [
    "p[0]   # this returns the first name"
   ]
  },
  {
   "cell_type": "code",
   "execution_count": 6,
   "metadata": {},
   "outputs": [
    {
     "data": {
      "text/plain": [
       "'Lerner'"
      ]
     },
     "execution_count": 6,
     "metadata": {},
     "output_type": "execute_result"
    }
   ],
   "source": [
    "p[1]   # this returns the last name"
   ]
  },
  {
   "cell_type": "code",
   "execution_count": 7,
   "metadata": {},
   "outputs": [
    {
     "data": {
      "text/plain": [
       "46"
      ]
     },
     "execution_count": 7,
     "metadata": {},
     "output_type": "execute_result"
    }
   ],
   "source": [
    "p[2]   # this returns the shoe size"
   ]
  },
  {
   "cell_type": "code",
   "execution_count": 8,
   "metadata": {},
   "outputs": [
    {
     "data": {
      "text/plain": [
       "'Reuven Lerner'"
      ]
     },
     "execution_count": 8,
     "metadata": {},
     "output_type": "execute_result"
    }
   ],
   "source": [
    "# what if I want a string containing both first and last names?\n",
    "\n",
    "f'{p[0]} {p[1]}'"
   ]
  },
  {
   "cell_type": "code",
   "execution_count": 9,
   "metadata": {},
   "outputs": [],
   "source": [
    "# I might want to write a function that does this, if I'm going to use the full name on a regular basis\n",
    "\n",
    "def fullname(person_tuple):\n",
    "    return f'{person_tuple[0]} {person_tuple[1]}'"
   ]
  },
  {
   "cell_type": "code",
   "execution_count": 10,
   "metadata": {},
   "outputs": [
    {
     "data": {
      "text/plain": [
       "'Reuven Lerner'"
      ]
     },
     "execution_count": 10,
     "metadata": {},
     "output_type": "execute_result"
    }
   ],
   "source": [
    "fullname(p)"
   ]
  },
  {
   "cell_type": "markdown",
   "metadata": {},
   "source": [
    "# This worked! But...\n",
    "\n",
    "1. We lose the advantage of abstraction. In this example, we're thinking about tuples and strings. Wouldn't it be nice to think at a higher level, using people and names? That's one advantage that objects give us -- we could have a `Person` type and talk about it, rather than slinging tuples around.\n",
    "2. There is no guarantee that someone will call our `fullname` function with the right kind of tuple. We could end up accidentally having a bug in our code that would be hard to track down.\n",
    "3. It's very annoying to have think about the first name being at index 0 and the last name at index 1. We would like something a bit more semtantically meaningful.\n",
    "4. If we use a class, we can enforce the number, type, and value of various attributes of our person."
   ]
  },
  {
   "cell_type": "markdown",
   "metadata": {},
   "source": [
    "# Exercise: Non-object objects\n",
    "\n",
    "1. Define a tuple containing information about a company, with fields for the company's name, its field/domain of expertise, and the number of employees.\n",
    "2. Write a function that expects to get that tuple, and returns a string `COMPANY in FIELD`.\n",
    "3. What happens when you run `type` on your tuple? What do you get?\n"
   ]
  },
  {
   "cell_type": "code",
   "execution_count": 13,
   "metadata": {},
   "outputs": [
    {
     "data": {
      "text/plain": [
       "'SmallCo in nanotechnology'"
      ]
     },
     "execution_count": 13,
     "metadata": {},
     "output_type": "execute_result"
    }
   ],
   "source": [
    "small_co = ('SmallCo', 'nanotechnology', 5)\n",
    "big_co = ('BigCo', 'world domination', 100_000)\n",
    "\n",
    "def company_info(company_tuple):\n",
    "    return f'{company_tuple[0]} in {company_tuple[1]}'\n",
    "\n",
    "company_info(small_co)    "
   ]
  },
  {
   "cell_type": "code",
   "execution_count": 14,
   "metadata": {},
   "outputs": [
    {
     "data": {
      "text/plain": [
       "'BigCo in world domination'"
      ]
     },
     "execution_count": 14,
     "metadata": {},
     "output_type": "execute_result"
    }
   ],
   "source": [
    "company_info(big_co)    "
   ]
  },
  {
   "cell_type": "code",
   "execution_count": 15,
   "metadata": {},
   "outputs": [
    {
     "data": {
      "text/plain": [
       "'ACME in Healthcare'"
      ]
     },
     "execution_count": 15,
     "metadata": {},
     "output_type": "execute_result"
    }
   ],
   "source": [
    "# VO\n",
    "\n",
    "company = ('ACME','Healthcare',500)\n",
    "def getInfo(comp):    # Python style would suggest get_info rather than getInfo\n",
    "    return f'{comp[0]} in {comp[1]}'\n",
    "getInfo(company)"
   ]
  },
  {
   "cell_type": "code",
   "execution_count": null,
   "metadata": {},
   "outputs": [],
   "source": []
  }
 ],
 "metadata": {
  "kernelspec": {
   "display_name": "Python 3 (ipykernel)",
   "language": "python",
   "name": "python3"
  },
  "language_info": {
   "codemirror_mode": {
    "name": "ipython",
    "version": 3
   },
   "file_extension": ".py",
   "mimetype": "text/x-python",
   "name": "python",
   "nbconvert_exporter": "python",
   "pygments_lexer": "ipython3",
   "version": "3.13.2"
  }
 },
 "nbformat": 4,
 "nbformat_minor": 4
}
