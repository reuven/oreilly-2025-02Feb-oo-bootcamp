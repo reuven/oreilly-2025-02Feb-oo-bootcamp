{
 "cells": [
  {
   "cell_type": "markdown",
   "metadata": {},
   "source": [
    "# Agenda\n",
    "\n",
    "1. Intro to objects\n",
    "    - What are objects?\n",
    "    - In Python, everything is an object\n",
    "    - Creating your own data structures (in general)\n",
    "    - Creating your own data structures (as classes/objects)\n",
    "    - What happens when you create a new object?\n",
    "    - Attributes\n",
    "    - Complex objects and composition\n",
    "2. Methods\n",
    "    - Writing methods\n",
    "    - The `self` parameter, and what it means/does\n",
    "    - Other parameters and passing arguments\n",
    "3. Magic methods\n",
    "4. Class attributes\n",
    "5. Attribute lookup (ICPO rule)\n",
    "6. Inheritance\n",
    "    - The three paradigms of method inheritance\n",
    "    - Attribute inheritance -- what it means, and how it works\n",
    "7. Next steps -- where to from here?"
   ]
  },
  {
   "cell_type": "markdown",
   "metadata": {},
   "source": [
    "# What are objects?\n",
    "\n",
    "We know that software has traditionally been hard to write and even harder to maintain. \n",
    "\n",
    "Back in the 1970s, people thought about this a lot. One of them is named Alan Kay. He thought about how to create a programming language that would make it easier to write code, and also easier to understand/maintain code. One of this thoughts was that we could create software like a biological system -- those systems are made up of cells, with each type of cell performing a different job. What if we could create different types of \"cells\" in our code, each defined very clearly, and then assemble our software from these different types of cells, depending on what functionality we wanted?\n",
    "\n",
    "This was the beginning of object-oriented programming:\n",
    "\n",
    "- Instead of cells, we talk about \"objects\"\n",
    "- Instead of types of cells, we talk about \"classes\" (or \"types\")f\n",
    "- Cells send messages to one another to pass information -- in object-oriented programming, we use \"methods\"\n",
    "\n",
    "Kay invented a language called Smalltalk that implemented this. Smalltalk never really took off as a language. But its influence is everywhere, because nearly every modern programming language is object-oriented in some way or another. This is because objects are generally seen as making our code easier to understand and maintain.\n",
    "\n"
   ]
  }
 ],
 "metadata": {
  "kernelspec": {
   "display_name": "Python 3 (ipykernel)",
   "language": "python",
   "name": "python3"
  },
  "language_info": {
   "codemirror_mode": {
    "name": "ipython",
    "version": 3
   },
   "file_extension": ".py",
   "mimetype": "text/x-python",
   "name": "python",
   "nbconvert_exporter": "python",
   "pygments_lexer": "ipython3",
   "version": "3.13.2"
  }
 },
 "nbformat": 4,
 "nbformat_minor": 4
}
