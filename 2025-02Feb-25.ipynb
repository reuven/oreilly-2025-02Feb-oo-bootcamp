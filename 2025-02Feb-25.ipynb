{
 "cells": [
  {
   "cell_type": "markdown",
   "metadata": {},
   "source": [
    "# Agenda\n",
    "\n",
    "1. Intro to objects\n",
    "    - What are objects?\n",
    "    - In Python, everything is an object\n",
    "    - Creating your own data structures (in general)\n",
    "    - Creating your own data structures (as classes/objects)\n",
    "    - What happens when you create a new object?\n",
    "    - Attributes\n",
    "    - Complex objects and composition\n",
    "2. Methods\n",
    "    - Writing methods\n",
    "    - The `self` parameter, and what it means/does\n",
    "    - Other parameters and passing arguments\n",
    "3. Magic methods\n",
    "4. Class attributes\n",
    "5. Attribute lookup (ICPO rule)\n",
    "6. Inheritance\n",
    "    - The three paradigms of method inheritance\n",
    "    - Attribute inheritance -- what it means, and how it works\n",
    "7. Next steps -- where to from here?"
   ]
  },
  {
   "cell_type": "markdown",
   "metadata": {},
   "source": [
    "# What are objects?\n",
    "\n",
    "We know that software has traditionally been hard to write and even harder to maintain. \n",
    "\n",
    "Back in the 1970s, people thought about this a lot. One of them is named Alan Kay. He thought about how to create a programming language that would make it easier to write code, and also easier to understand/maintain code. One of this thoughts was that we could create software like a biological system -- those systems are made up of cells, with each type of cell performing a different job. What if we could create different types of \"cells\" in our code, each defined very clearly, and then assemble our software from these different types of cells, depending on what functionality we wanted?\n",
    "\n",
    "This was the beginning of object-oriented programming:\n",
    "\n",
    "- Instead of cells, we talk about \"objects\"\n",
    "- Instead of types of cells, we talk about \"classes\" (or \"types\")f\n",
    "- Cells send messages to one another to pass information -- in object-oriented programming, we use \"methods\"\n",
    "\n",
    "Kay invented a language called Smalltalk that implemented this. Smalltalk never really took off as a language. But its influence is everywhere, because nearly every modern programming language is object-oriented in some way or another. This is because objects are generally seen as making our code easier to understand and maintain.\n",
    "\n",
    "Object-oriented programming is *not* a panacea for all software problems. \n",
    "\n",
    "It is a technique for managing and organizing your code.\n",
    "\n",
    "Do you always need to use objects? Python says \"no,\" that it's a good and useful technique, but you don't need to use it everywhere. However, the underlying Python language uses objects everywhere... if you understand how objects work in Python, then you also have a better understanding of how the language itself works, and how to use it."
   ]
  },
  {
   "cell_type": "markdown",
   "metadata": {},
   "source": [
    "# Everything is an object\n",
    "\n",
    "What does this mean? Why should I care?\n",
    "\n",
    "If we say that everything in Python is an object, it means:\n",
    "\n",
    "- We can apply the same rules to our data types as we do to built-in data types in Python.\n",
    "- It means that the same rules apply to all data structures, both internal and user-defined -- that makes the langauge consistent and easier to use\n",
    "- If we want to extend/improve the system, there is a clear framework for doing so.\n",
    "\n",
    "Once you learn how Python works, and how it treats its objects, then you can use that same information on your own data structures.\n",
    "\n"
   ]
  },
  {
   "cell_type": "markdown",
   "metadata": {},
   "source": [
    "# Vocabulary\n",
    "\n",
    "- `class` and `type` -- These are, when we're discussing objects, interchangeable. The word in Python (when you're coding) do have different meanings and uses, but we'll get to that. A class is a data type, and it's also a factory for objects of that type. If you have a string in Python, it's really a \"string object,\" and it was created by `str`, its type.\n",
    "    - `str` is a type\n",
    "    - `str` is a class\n",
    "    - `str` creates all strings in Python\n",
    "- If we want to create a new value of type `X`, then we'll invoke `X()`, and get that new value back.\n",
    "- `instance` -- when I created a new string object, we could say that I was creating a new \"instance\" of `str`. A class is a factory for objects of that type, or (phrased differently) for instances of that type. Everything in Python is an object, so everything is an instance of some type. What type? We just have to use the `type` function to find out.\n",
    "- `object` -- this word is overused in the world of object-oriented programming. It basically means \"a value.\" Sometimes, when we say \"object,\" we mean \"any value in Python.\" Sometimes, we mean \"an instance of a type.\" I can say that `s` is a \"string object,\" or I can say that it's an \"instance of `str`.\" Both are acceptable. You could argue that `object` and `instance` are roughly interchangeable."
   ]
  },
  {
   "cell_type": "code",
   "execution_count": 1,
   "metadata": {},
   "outputs": [
    {
     "data": {
      "text/plain": [
       "'5'"
      ]
     },
     "execution_count": 1,
     "metadata": {},
     "output_type": "execute_result"
    }
   ],
   "source": [
    "str(5)  # this will return a new string object"
   ]
  },
  {
   "cell_type": "code",
   "execution_count": 2,
   "metadata": {},
   "outputs": [],
   "source": [
    "s = str(5)  # now we assign that object to the variable s"
   ]
  },
  {
   "cell_type": "code",
   "execution_count": 3,
   "metadata": {},
   "outputs": [
    {
     "data": {
      "text/plain": [
       "str"
      ]
     },
     "execution_count": 3,
     "metadata": {},
     "output_type": "execute_result"
    }
   ],
   "source": [
    "type(s)     # what kind of value is stored in s?"
   ]
  },
  {
   "cell_type": "markdown",
   "metadata": {},
   "source": [
    "# So what?\n",
    "\n",
    "The type/class of an object determines its functionality:\n",
    "\n",
    "- What data does it store?\n",
    "- What methods can we invoke on it?\n",
    "- What operators can we use with it?\n",
    "- What inputs can get it, and what outputs does it provide?\n",
    "\n",
    "We know that strings behave differently from integers, which behave differently from dictionaries. We can define our own types that will behave differently, too.\n",
    "\n",
    "If you want, you can think of a class as a factory for objects. We can have a car factory that puts out one type of car. If we want a different type of car, or maybe a bus or an airplane or a train, we'll need a different type of factory (that is, another class)."
   ]
  },
  {
   "cell_type": "markdown",
   "metadata": {},
   "source": [
    "# We don't need objects! (But they're useful)\n",
    "\n",
    "Let's say that I want to keep track of a person. I don't need a special class to do that; I can just use a tuple:"
   ]
  },
  {
   "cell_type": "code",
   "execution_count": 4,
   "metadata": {},
   "outputs": [],
   "source": [
    "p = ('Reuven', 'Lerner', 46)   # here, I've defined a 3-element tuple"
   ]
  },
  {
   "cell_type": "code",
   "execution_count": 5,
   "metadata": {},
   "outputs": [
    {
     "data": {
      "text/plain": [
       "'Reuven'"
      ]
     },
     "execution_count": 5,
     "metadata": {},
     "output_type": "execute_result"
    }
   ],
   "source": [
    "p[0]   # this returns the first name"
   ]
  },
  {
   "cell_type": "code",
   "execution_count": 6,
   "metadata": {},
   "outputs": [
    {
     "data": {
      "text/plain": [
       "'Lerner'"
      ]
     },
     "execution_count": 6,
     "metadata": {},
     "output_type": "execute_result"
    }
   ],
   "source": [
    "p[1]   # this returns the last name"
   ]
  },
  {
   "cell_type": "code",
   "execution_count": 7,
   "metadata": {},
   "outputs": [
    {
     "data": {
      "text/plain": [
       "46"
      ]
     },
     "execution_count": 7,
     "metadata": {},
     "output_type": "execute_result"
    }
   ],
   "source": [
    "p[2]   # this returns the shoe size"
   ]
  },
  {
   "cell_type": "code",
   "execution_count": 8,
   "metadata": {},
   "outputs": [
    {
     "data": {
      "text/plain": [
       "'Reuven Lerner'"
      ]
     },
     "execution_count": 8,
     "metadata": {},
     "output_type": "execute_result"
    }
   ],
   "source": [
    "# what if I want a string containing both first and last names?\n",
    "\n",
    "f'{p[0]} {p[1]}'"
   ]
  },
  {
   "cell_type": "code",
   "execution_count": 9,
   "metadata": {},
   "outputs": [],
   "source": [
    "# I might want to write a function that does this, if I'm going to use the full name on a regular basis\n",
    "\n",
    "def fullname(person_tuple):\n",
    "    return f'{person_tuple[0]} {person_tuple[1]}'"
   ]
  },
  {
   "cell_type": "code",
   "execution_count": 10,
   "metadata": {},
   "outputs": [
    {
     "data": {
      "text/plain": [
       "'Reuven Lerner'"
      ]
     },
     "execution_count": 10,
     "metadata": {},
     "output_type": "execute_result"
    }
   ],
   "source": [
    "fullname(p)"
   ]
  },
  {
   "cell_type": "markdown",
   "metadata": {},
   "source": [
    "# This worked! But...\n",
    "\n",
    "1. We lose the advantage of abstraction. In this example, we're thinking about tuples and strings. Wouldn't it be nice to think at a higher level, using people and names? That's one advantage that objects give us -- we could have a `Person` type and talk about it, rather than slinging tuples around.\n",
    "2. There is no guarantee that someone will call our `fullname` function with the right kind of tuple. We could end up accidentally having a bug in our code that would be hard to track down.\n",
    "3. It's very annoying to have think about the first name being at index 0 and the last name at index 1. We would like something a bit more semtantically meaningful.\n",
    "4. If we use a class, we can enforce the number, type, and value of various attributes of our person."
   ]
  },
  {
   "cell_type": "markdown",
   "metadata": {},
   "source": [
    "# Exercise: Non-object objects\n",
    "\n",
    "1. Define a tuple containing information about a company, with fields for the company's name, its field/domain of expertise, and the number of employees.\n",
    "2. Write a function that expects to get that tuple, and returns a string `COMPANY in FIELD`.\n",
    "3. What happens when you run `type` on your tuple? What do you get?\n"
   ]
  },
  {
   "cell_type": "code",
   "execution_count": 13,
   "metadata": {},
   "outputs": [
    {
     "data": {
      "text/plain": [
       "'SmallCo in nanotechnology'"
      ]
     },
     "execution_count": 13,
     "metadata": {},
     "output_type": "execute_result"
    }
   ],
   "source": [
    "small_co = ('SmallCo', 'nanotechnology', 5)\n",
    "big_co = ('BigCo', 'world domination', 100_000)\n",
    "\n",
    "def company_info(company_tuple):\n",
    "    return f'{company_tuple[0]} in {company_tuple[1]}'\n",
    "\n",
    "company_info(small_co)    "
   ]
  },
  {
   "cell_type": "code",
   "execution_count": 14,
   "metadata": {},
   "outputs": [
    {
     "data": {
      "text/plain": [
       "'BigCo in world domination'"
      ]
     },
     "execution_count": 14,
     "metadata": {},
     "output_type": "execute_result"
    }
   ],
   "source": [
    "company_info(big_co)    "
   ]
  },
  {
   "cell_type": "code",
   "execution_count": 15,
   "metadata": {},
   "outputs": [
    {
     "data": {
      "text/plain": [
       "'ACME in Healthcare'"
      ]
     },
     "execution_count": 15,
     "metadata": {},
     "output_type": "execute_result"
    }
   ],
   "source": [
    "# VO\n",
    "\n",
    "company = ('ACME','Healthcare',500)\n",
    "def getInfo(comp):    # Python style would suggest get_info rather than getInfo\n",
    "    return f'{comp[0]} in {comp[1]}'\n",
    "getInfo(company)"
   ]
  },
  {
   "cell_type": "code",
   "execution_count": 16,
   "metadata": {},
   "outputs": [],
   "source": [
    "# what about a function that returns the company's name and its headcount?\n",
    "\n",
    "def company_headcount(company_tuple):\n",
    "    return f'{company_tuple[0]} has {company_tuple[2]} employees'"
   ]
  },
  {
   "cell_type": "code",
   "execution_count": 17,
   "metadata": {},
   "outputs": [
    {
     "data": {
      "text/plain": [
       "'SmallCo has 5 employees'"
      ]
     },
     "execution_count": 17,
     "metadata": {},
     "output_type": "execute_result"
    }
   ],
   "source": [
    "company_headcount(small_co)"
   ]
  },
  {
   "cell_type": "code",
   "execution_count": 18,
   "metadata": {},
   "outputs": [
    {
     "data": {
      "text/plain": [
       "'BigCo has 100000 employees'"
      ]
     },
     "execution_count": 18,
     "metadata": {},
     "output_type": "execute_result"
    }
   ],
   "source": [
    "company_headcount(big_co)"
   ]
  },
  {
   "cell_type": "markdown",
   "metadata": {},
   "source": [
    "Having our data in a tuple isn't bad. And having functions that work with that tuple isn't bad. But the combination means that we can end up with many functions that cannot enforce what type of value they're passed, along with tuples that don't have a high level of abstraction. We think about tuples and strings and indexes, rather than companies and their attributes."
   ]
  },
  {
   "cell_type": "markdown",
   "metadata": {},
   "source": [
    "# What is abstraction?\n",
    "\n",
    "One of the most important ideas in all of programming is *abstraction* -- the idea that you can paper over the small details and thus concentrate on the higher-level ideas.\n",
    "\n",
    "- When we write a function, we think about the details. But once the function is written, we don't have to think about how it's implemented. We just think about the inputs and the outputs. In that way, we can think at a higher level, using our function in other places and ways.\n",
    "- When we create a class, we think about the details. But once the class (the new data structure) is written, we don't have to think about how it is implemented. We just think about how it fits into our world and our program.\n",
    "\n",
    "When we drive, we wrap our car into abstractions -- steering, brake, turn signals, but not the stuff going on inside of the car's engine or other places. This allows us to concentrate on driving. If we had to think about those, we wouldn't be able to drive.\n",
    "\n",
    "When traffic engineers check traffic and try to improve things, they never think about what's happening inside of a car. They think of a car as the low level attribute, and then can plan traffic patterns.\n",
    "\n",
    "When someone builds a bridge, they don't want to think about molecules. They think about girders and chains and pilings and other things -- in the same way, we'll create our classes so that we don't think about strings, integers, lists, etc., but can think at a higher level."
   ]
  },
  {
   "cell_type": "markdown",
   "metadata": {},
   "source": [
    "# Next up\n",
    "\n",
    "- Define our own class!\n",
    "- See how we can transform (slowly but surely) \"regular\" Python into OO Python\n",
    "- What happens when we create a new object?"
   ]
  },
  {
   "cell_type": "markdown",
   "metadata": {},
   "source": [
    "# How would we define this as a class?\n",
    "\n",
    "- We would create a new data structure, a new class/type\n",
    "- We would define methods (functions) that are attached to that class"
   ]
  },
  {
   "cell_type": "code",
   "execution_count": 19,
   "metadata": {},
   "outputs": [
    {
     "data": {
      "text/plain": [
       "'abcd'"
      ]
     },
     "execution_count": 19,
     "metadata": {},
     "output_type": "execute_result"
    }
   ],
   "source": [
    "s = 'aBcD'   # here, I create a string\n",
    "s.lower()    # here, I invoke a method on the string -- this method is attached to the string class; it can't be used on anything else"
   ]
  },
  {
   "cell_type": "markdown",
   "metadata": {},
   "source": [
    "# To define a class\n",
    "\n",
    "- We use the `class` keyword -- you cannot say `type` here, it must be `class`\n",
    "- Then we name our class, and typically we do use CamelCase in Python here.\n",
    "- We have a colon at the end of the line, which means\n",
    "- Then we have an indented block. This is the class body, the class definition. Anything indented will then be part of the class.\n",
    "- Inside of the class body, we will then define one or more functions using `def` -- except that inside of the class, any function we define is actually known as a *method*.\n",
    "- The most important method is `__init__`. (Pronounced \"dunder init,\" for \"double underscore on both sides init.\") This is where we take the user's inputs and assign them to attributes."
   ]
  },
  {
   "cell_type": "code",
   "execution_count": 20,
   "metadata": {},
   "outputs": [],
   "source": [
    "# let's define a Person class, which keeps track of a person's information. For now, it'll just have their name\n",
    "\n",
    "class Person:                     # here, we use the \"class\" keyword, the name we want to give it, and a :\n",
    "    def __init__(self, name):     # our method takes *two* arguments, assigned to two parameters, self and name\n",
    "        self.name = name          # take the user's argument from the \"name\" parameter and assign to the name attribute on the new instance        "
   ]
  },
  {
   "cell_type": "code",
   "execution_count": 21,
   "metadata": {},
   "outputs": [
    {
     "data": {
      "text/plain": [
       "type"
      ]
     },
     "execution_count": 21,
     "metadata": {},
     "output_type": "execute_result"
    }
   ],
   "source": [
    "# I have defined a new class!\n",
    "# How do I know? I can ask Python...\n",
    "\n",
    "type(Person)    # what is this Person that I just defined?"
   ]
  },
  {
   "cell_type": "code",
   "execution_count": 22,
   "metadata": {},
   "outputs": [],
   "source": [
    "# if I want a new Person instance, I can invoke Person(), passing one value (the name)\n",
    "\n",
    "p = Person('Reuven')"
   ]
  },
  {
   "cell_type": "code",
   "execution_count": 23,
   "metadata": {},
   "outputs": [
    {
     "data": {
      "text/plain": [
       "__main__.Person"
      ]
     },
     "execution_count": 23,
     "metadata": {},
     "output_type": "execute_result"
    }
   ],
   "source": [
    "type(p)  # what kind of value is in p?"
   ]
  },
  {
   "cell_type": "markdown",
   "metadata": {},
   "source": [
    "# What happened?\n",
    "\n",
    "- I invoked `Person`, passing the string `'Reuven'` to it as an argument. That was eventually passed along to `__init__`, whose `name` parameter got that value assigned to it.\n",
    "\n",
    "- `__init__` then assigned the value of the variable `name` to the *attribute* `self.name`. This is how we assign what other languages call \"instance variables.\" Put another way, this is how we make each instance different from other instances of the same class, by assigning different values to its attributes. You can think of attributes as a private dictionary of characteristics for a given object. In this case, we're saying that our new instance of `Person` has a `name` attribute, and its value is `'Reuven'`, which we got from the `name` variable.\n",
    "\n",
    "**VERY IMPORTANT** There are two ways to store values in Python -- variables and attributes. We normally think about variables. In `__init__`, we have a variable (a parameter) called `name` that gets assigned a value when we create a new `Person`. \n",
    "\n",
    "But variables in functions are local. They don't stick around. If we want a value to remain after `__init__` has finished running, then we need to stick it on our new object. The way we do that is with an attribute, `self.name`. We can create and assign to any attribute we want, `self.x` or `self.name` or `self.shoesize`. Anything you assign to an attribute on `self` will remain on the object even after `__init__` is done. \n",
    "\n",
    "This is the only thing that `__init__` is really supposed to do -- assign attributes to an object."
   ]
  },
  {
   "cell_type": "markdown",
   "metadata": {},
   "source": [
    "# What is `self`? What is `__init__`, really?\n",
    "\n",
    "Many people believe that `__init__` is the \"constructor method\" for an object in Python -- meaning, that it creates a new object. This is absolutely, 100% false.\n",
    "\n",
    "`__init__` doesn't create the new object. (That's done by a special method called `__new__` behind the scenes.) Rather, `__init__` is invoked after the object has been created, but before it has been returned to the caller. `__init__` is passed any and all arguments we passed to the class. When I invoked `Person('Reuven')`, `__init__` eventually got that argument, `'Reuven'` passed to it.\n",
    "\n",
    "In order for `__init__` to have a way to modify the newly created object, it gets that object passed to it automatically as the first argument. In fact, *every* method in Python gets the instance passed to it as the first argument. \n",
    "\n",
    "This means that every method needs one more parameter than you might think. The first parameter will always be the instance on which we're running things. While you can use any name you want for that parameter, everyone in the Python world has standardized on the name `self`.\n",
    "\n",
    "- If you define a method without `self`, then the first parameter will still get the instance assigned to it, no matter its name. This might well result in an error, because you didn't provide enough parameters.\n",
    "- If your class doesn't need to assign any attributes on the object, then you don't need to define `__init__`."
   ]
  },
  {
   "cell_type": "code",
   "execution_count": 24,
   "metadata": {},
   "outputs": [
    {
     "name": "stdout",
     "output_type": "stream",
     "text": [
      "Help on method_descriptor:\n",
      "\n",
      "split(self, /, sep=None, maxsplit=-1) unbound builtins.str method\n",
      "    Return a list of the substrings in the string, using sep as the separator string.\n",
      "\n",
      "      sep\n",
      "        The separator used to split the string.\n",
      "\n",
      "        When set to None (the default value), will split on any whitespace\n",
      "        character (including \\n \\r \\t \\f and spaces) and will discard\n",
      "        empty strings from the result.\n",
      "      maxsplit\n",
      "        Maximum number of splits.\n",
      "        -1 (the default value) means no limit.\n",
      "\n",
      "    Splitting starts at the front of the string and works to the end.\n",
      "\n",
      "    Note, str.split() is mainly useful for data that has been intentionally\n",
      "    delimited.  With natural text that includes punctuation, consider using\n",
      "    the regular expression module.\n",
      "\n"
     ]
    }
   ],
   "source": [
    "# just FYI, you will often see the self parameter in the documentation for methods\n",
    "\n",
    "help(str.split)"
   ]
  },
  {
   "cell_type": "code",
   "execution_count": 25,
   "metadata": {},
   "outputs": [
    {
     "name": "stdout",
     "output_type": "stream",
     "text": [
      "Help on method_descriptor:\n",
      "\n",
      "append(self, object, /) unbound builtins.list method\n",
      "    Append object to the end of the list.\n",
      "\n"
     ]
    }
   ],
   "source": [
    "help(list.append)"
   ]
  },
  {
   "cell_type": "code",
   "execution_count": 26,
   "metadata": {},
   "outputs": [],
   "source": [
    "# let's make our Person object a bit fancier, matching what we did before\n",
    "\n",
    "class Person:\n",
    "    def __init__(self, first, last, shoesize):\n",
    "        self.first = first\n",
    "        self.last = last\n",
    "        self.shoesize = shoesize\n",
    "\n",
    "p = Person('Reuven', 'Lerner', 46)        "
   ]
  },
  {
   "cell_type": "code",
   "execution_count": 27,
   "metadata": {},
   "outputs": [
    {
     "data": {
      "text/plain": [
       "'Reuven'"
      ]
     },
     "execution_count": 27,
     "metadata": {},
     "output_type": "execute_result"
    }
   ],
   "source": [
    "# I can now retrieve these from the object directly!\n",
    "\n",
    "p.first"
   ]
  },
  {
   "cell_type": "code",
   "execution_count": 28,
   "metadata": {},
   "outputs": [
    {
     "data": {
      "text/plain": [
       "'Lerner'"
      ]
     },
     "execution_count": 28,
     "metadata": {},
     "output_type": "execute_result"
    }
   ],
   "source": [
    "p.last"
   ]
  },
  {
   "cell_type": "code",
   "execution_count": 29,
   "metadata": {},
   "outputs": [
    {
     "data": {
      "text/plain": [
       "46"
      ]
     },
     "execution_count": 29,
     "metadata": {},
     "output_type": "execute_result"
    }
   ],
   "source": [
    "p.shoesize"
   ]
  },
  {
   "cell_type": "code",
   "execution_count": 30,
   "metadata": {},
   "outputs": [],
   "source": [
    "# the attributes that we assigned are their names, and that's how we can retrieve them \n",
    "# there is no numeric index I can use to retrieve p.shoesize"
   ]
  },
  {
   "cell_type": "markdown",
   "metadata": {},
   "source": [
    "# What if we don't write `__init__`?\n",
    "\n",
    "If your objects don't have any attributes, then it's totally OK to not write `__init__`.\n",
    "\n",
    "If your objects have attributes, and you want to make things more surprising for your colleagues (and yourself), then you can just assign any attribute you want whenever you want, to whatever you want. \n",
    "\n",
    "The point of `__init__` is to centralize the assignment of attributes to a new object, in no small part so that when you want to understand, explore, and maintain the class, you'll have one place you can look to understand it."
   ]
  },
  {
   "cell_type": "code",
   "execution_count": null,
   "metadata": {},
   "outputs": [],
   "source": [
    "p = Person('david', 'roger', 26)   # --> basically rewritten to be Person.__init__(p, 'david', 'roger', 26), but without p!"
   ]
  },
  {
   "cell_type": "markdown",
   "metadata": {},
   "source": [
    "# Do the attribute names need to reflect the parameter names?\n",
    "\n",
    "No! You can do whatever you want. It's typical for them to match, but sometimes you'll break a paramter apart, or you'll calculate something based on it and put the result into an attribute. Or you can define attributes that you will use later, but which aren't yet assigned to -- 0, empty string, empty list, etc. \n",
    "\n",
    "Even if an attribute isn't going to be assigned from the initial arguments, you should (for the sake of good maintenance and coding) assign every attribute in `__init__`."
   ]
  },
  {
   "cell_type": "markdown",
   "metadata": {},
   "source": [
    "# We don't declare in Python!\n",
    "\n",
    "In many languages, you need to declare variables before you can use them. Not so in Python; when we first assign to a variable, it is created.\n",
    "\n",
    "In many languages, the class definition includes declarations of what fields / instance variables will be on a given type of object. Not so in Python; when `__init__` runs, it creates (at run time) the attributes you're assigning to, one at a time. If `__init__` doesn't run, then attributes aren't assigned. There is no place for \"declaring\" attributes in Python."
   ]
  },
  {
   "cell_type": "markdown",
   "metadata": {},
   "source": [
    "# Variables vs. attributes\n",
    "\n",
    "If you assign to `x` in Python, you're assigning to a variable. It might be global (outside of a function) or local (inside of a function), but it's a variable.\n",
    "\n",
    "If you assign to `x.y` in Python, you're assigning to an *attribute*. Specifically, the `y` attributes on the `x` object. This means that `x` needs to exist already!\n",
    "\n",
    "When we assign to `self.name`, we are assigning to (and possibly creating, if it didn't exist before) the `name` attribute on the `self` object. `self` refers to the new object we just created, which means that we're now giving it a name.\n",
    "\n",
    "In Python, we use attributes instead of what other languages call \"fields,\" \"instance variables,\" and \"class variables.\""
   ]
  },
  {
   "cell_type": "code",
   "execution_count": 39,
   "metadata": {},
   "outputs": [],
   "source": [
    "\n",
    "class Person:\n",
    "    def __init__(self, first, last, shoesize):\n",
    "        self.first = first\n",
    "        self.last = last\n",
    "        self.shoesize = shoesize\n",
    "        self.childrens_names = []   # better to declare it in __init__ and have it, than create it somewhere else down the road\n",
    "\n",
    "p = Person('Reuven', 'Lerner', 46)        "
   ]
  },
  {
   "cell_type": "markdown",
   "metadata": {},
   "source": [
    "# Exercise: Company class\n",
    "\n",
    "1. Re-implement what we did before for a company, but this time in a class called `Company`.\n",
    "2. Each instance will have three attributes -- `name`, `domain`, and `size`.\n",
    "3. Create two instances of `Company`, each with its own name, domain, and size. "
   ]
  },
  {
   "cell_type": "code",
   "execution_count": 31,
   "metadata": {},
   "outputs": [],
   "source": [
    "class Company:\n",
    "    def __init__(self, name, domain, size):\n",
    "        self.name = name\n",
    "        self.domain = domain\n",
    "        self.size = size"
   ]
  },
  {
   "cell_type": "code",
   "execution_count": 32,
   "metadata": {},
   "outputs": [],
   "source": [
    "small_co = Company('SmallCo', 'nanotechnology', 5)\n",
    "big_co = Company('BigCo', 'megalomania', 100_000)"
   ]
  },
  {
   "cell_type": "code",
   "execution_count": 33,
   "metadata": {},
   "outputs": [
    {
     "data": {
      "text/plain": [
       "{'name': 'SmallCo', 'domain': 'nanotechnology', 'size': 5}"
      ]
     },
     "execution_count": 33,
     "metadata": {},
     "output_type": "execute_result"
    }
   ],
   "source": [
    "# if I run \"vars\" on an object, I get a dict of its attributes\n",
    "\n",
    "vars(small_co)"
   ]
  },
  {
   "cell_type": "code",
   "execution_count": 34,
   "metadata": {},
   "outputs": [
    {
     "data": {
      "text/plain": [
       "{'name': 'BigCo', 'domain': 'megalomania', 'size': 100000}"
      ]
     },
     "execution_count": 34,
     "metadata": {},
     "output_type": "execute_result"
    }
   ],
   "source": [
    "vars(big_co)"
   ]
  },
  {
   "cell_type": "code",
   "execution_count": 35,
   "metadata": {},
   "outputs": [
    {
     "data": {
      "text/plain": [
       "'SmallCo'"
      ]
     },
     "execution_count": 35,
     "metadata": {},
     "output_type": "execute_result"
    }
   ],
   "source": [
    "small_co.name"
   ]
  },
  {
   "cell_type": "code",
   "execution_count": 36,
   "metadata": {},
   "outputs": [
    {
     "data": {
      "text/plain": [
       "'BigCo'"
      ]
     },
     "execution_count": 36,
     "metadata": {},
     "output_type": "execute_result"
    }
   ],
   "source": [
    "big_co.name"
   ]
  },
  {
   "cell_type": "code",
   "execution_count": 40,
   "metadata": {},
   "outputs": [],
   "source": [
    "class Person:\n",
    "    def __init__(self, first, last, shoesize):\n",
    "        self.first = first\n",
    "        self.last = last\n",
    "        self.shoesize = shoesize\n",
    "        self.childrens_names = []   # better to declare it in __init__ and have it, than create it somewhere else down the road\n",
    "\n",
    "p = Person('Reuven', 'Lerner', 46)       "
   ]
  },
  {
   "cell_type": "code",
   "execution_count": 42,
   "metadata": {},
   "outputs": [
    {
     "data": {
      "text/plain": [
       "[]"
      ]
     },
     "execution_count": 42,
     "metadata": {},
     "output_type": "execute_result"
    }
   ],
   "source": [
    "p.childrens_names"
   ]
  },
  {
   "cell_type": "code",
   "execution_count": 43,
   "metadata": {},
   "outputs": [
    {
     "data": {
      "text/plain": [
       "['first_child']"
      ]
     },
     "execution_count": 43,
     "metadata": {},
     "output_type": "execute_result"
    }
   ],
   "source": [
    "p.childrens_names.append('first_child')\n",
    "p.childrens_names"
   ]
  },
  {
   "cell_type": "code",
   "execution_count": 44,
   "metadata": {},
   "outputs": [
    {
     "name": "stdout",
     "output_type": "stream",
     "text": [
      "<__main__.Company object at 0x10ceb1550>\n"
     ]
    }
   ],
   "source": [
    "# VO\n",
    "\n",
    "class Company:\n",
    "    def __init__(self,name,domain,size):\n",
    "        self.name = name\n",
    "        self.domain = domain\n",
    "        self.size = size\n",
    "c = Company('MYCOMP','Banca',10000)\n",
    "print(c)"
   ]
  },
  {
   "cell_type": "code",
   "execution_count": 45,
   "metadata": {},
   "outputs": [
    {
     "data": {
      "text/plain": [
       "{'name': 'MYCOMP', 'domain': 'Banca', 'size': 10000}"
      ]
     },
     "execution_count": 45,
     "metadata": {},
     "output_type": "execute_result"
    }
   ],
   "source": [
    "vars(c)"
   ]
  },
  {
   "cell_type": "code",
   "execution_count": 46,
   "metadata": {},
   "outputs": [],
   "source": [
    "# could I have done this?\n",
    "\n",
    "class Person:\n",
    "    pass   # this means: nothing to say here\n",
    "\n",
    "    "
   ]
  },
  {
   "cell_type": "code",
   "execution_count": 48,
   "metadata": {},
   "outputs": [
    {
     "name": "stdout",
     "output_type": "stream",
     "text": [
      "{'first': 'Reuven', 'last': 'Lerner'}\n",
      "{'first': 'Someone', 'last': 'Else'}\n"
     ]
    }
   ],
   "source": [
    "# this works, but is a *TERRIBLE* way to write code!\n",
    "\n",
    "p1 = Person()\n",
    "p1.first = 'Reuven'\n",
    "p1.last = 'Lerner'\n",
    "print(vars(p1))\n",
    "\n",
    "p2 = Person()\n",
    "p2.first = 'Someone'\n",
    "p2.last = 'Else'\n",
    "print(vars(p2))"
   ]
  },
  {
   "cell_type": "markdown",
   "metadata": {},
   "source": [
    "# Summary of class definitions so far\n",
    "\n",
    "1. When you want to define a new class, use `class` and then name the class\n",
    "2. If you want to assign one or more attributes to an instance, use `__init__`\n",
    "3. As with all methods (although we've only seen one so far), `self` should be the first parameter. It contains the instance itself.\n",
    "4. The job of `__init__` is to assign attributes to the new instance.\n",
    "5. `__init__` doesn't ever return; its job is to assign, and modifying the object is enough.\n",
    "6. Usually attributes will be assigned based on the parameters in the method, but they don't have to be."
   ]
  },
  {
   "cell_type": "code",
   "execution_count": 50,
   "metadata": {},
   "outputs": [
    {
     "data": {
      "text/plain": [
       "8"
      ]
     },
     "execution_count": 50,
     "metadata": {},
     "output_type": "execute_result"
    }
   ],
   "source": [
    "# a function parameter can have a default argument value\n",
    "\n",
    "def add(x, y=10):\n",
    "    return x + y\n",
    "\n",
    "# parameters: x  y\n",
    "# arguments:  3  5\n",
    "add(3, 5)    "
   ]
  },
  {
   "cell_type": "code",
   "execution_count": 51,
   "metadata": {},
   "outputs": [
    {
     "data": {
      "text/plain": [
       "13"
      ]
     },
     "execution_count": 51,
     "metadata": {},
     "output_type": "execute_result"
    }
   ],
   "source": [
    "# parameters: x  y\n",
    "# arguments:  3  10\n",
    "add(3)    "
   ]
  },
  {
   "cell_type": "code",
   "execution_count": 52,
   "metadata": {},
   "outputs": [
    {
     "data": {
      "text/plain": [
       "{'name': 'Reuven', 'shoesize': 46}"
      ]
     },
     "execution_count": 52,
     "metadata": {},
     "output_type": "execute_result"
    }
   ],
   "source": [
    "class Person:\n",
    "    def __init__(self, name, shoesize=46):\n",
    "        self.name = name\n",
    "        self.shoesize = shoesize\n",
    "\n",
    "p = Person('Reuven', 46)\n",
    "vars(p)"
   ]
  },
  {
   "cell_type": "code",
   "execution_count": 53,
   "metadata": {},
   "outputs": [
    {
     "data": {
      "text/plain": [
       "{'name': 'Reuven', 'shoesize': 46}"
      ]
     },
     "execution_count": 53,
     "metadata": {},
     "output_type": "execute_result"
    }
   ],
   "source": [
    "p = Person('Reuven')\n",
    "vars(p)"
   ]
  },
  {
   "cell_type": "markdown",
   "metadata": {},
   "source": [
    "# Next up\n",
    "\n",
    "- Setting and retrieving attributes\n",
    "- Simple methods\n",
    "- Getters and setters (or not)"
   ]
  },
  {
   "cell_type": "code",
   "execution_count": 54,
   "metadata": {},
   "outputs": [],
   "source": [
    "# how can we retrieve an attribute from our object? (We've already seen it! We just ask for it...)\n",
    "\n",
    "class Person:\n",
    "    def __init__(self, name):\n",
    "        self.name = name\n",
    "\n",
    "p = Person('Reuven')        "
   ]
  },
  {
   "cell_type": "code",
   "execution_count": 55,
   "metadata": {},
   "outputs": [
    {
     "data": {
      "text/plain": [
       "'Reuven'"
      ]
     },
     "execution_count": 55,
     "metadata": {},
     "output_type": "execute_result"
    }
   ],
   "source": [
    "p.name   # retrieve the name"
   ]
  },
  {
   "cell_type": "code",
   "execution_count": 56,
   "metadata": {},
   "outputs": [
    {
     "ename": "AttributeError",
     "evalue": "'Person' object has no attribute 'shoesize'",
     "output_type": "error",
     "traceback": [
      "\u001b[0;31m---------------------------------------------------------------------------\u001b[0m",
      "\u001b[0;31mAttributeError\u001b[0m                            Traceback (most recent call last)",
      "Cell \u001b[0;32mIn[56], line 3\u001b[0m\n\u001b[1;32m      1\u001b[0m \u001b[38;5;66;03m# what if I retrieve an attribute that doesn't exist?\u001b[39;00m\n\u001b[0;32m----> 3\u001b[0m \u001b[43mp\u001b[49m\u001b[38;5;241;43m.\u001b[39;49m\u001b[43mshoesize\u001b[49m\n",
      "\u001b[0;31mAttributeError\u001b[0m: 'Person' object has no attribute 'shoesize'"
     ]
    }
   ],
   "source": [
    "# what if I retrieve an attribute that doesn't exist?\n",
    "\n",
    "p.shoesize"
   ]
  },
  {
   "cell_type": "code",
   "execution_count": 57,
   "metadata": {},
   "outputs": [
    {
     "ename": "NameError",
     "evalue": "name 'shoesize' is not defined",
     "output_type": "error",
     "traceback": [
      "\u001b[0;31m---------------------------------------------------------------------------\u001b[0m",
      "\u001b[0;31mNameError\u001b[0m                                 Traceback (most recent call last)",
      "Cell \u001b[0;32mIn[57], line 1\u001b[0m\n\u001b[0;32m----> 1\u001b[0m \u001b[38;5;28mprint\u001b[39m(\u001b[43mshoesize\u001b[49m)  \u001b[38;5;66;03m# here, I'm trying to print the value of a variable that doesn't exist\u001b[39;00m\n",
      "\u001b[0;31mNameError\u001b[0m: name 'shoesize' is not defined"
     ]
    }
   ],
   "source": [
    "print(shoesize)  # here, I'm trying to print the value of a variable that doesn't exist"
   ]
  },
  {
   "cell_type": "code",
   "execution_count": 58,
   "metadata": {},
   "outputs": [
    {
     "data": {
      "text/plain": [
       "{'name': 'YourNewName'}"
      ]
     },
     "execution_count": 58,
     "metadata": {},
     "output_type": "execute_result"
    }
   ],
   "source": [
    "# what if I want to set an attribute?\n",
    "# we can just set it!\n",
    "\n",
    "p.name = 'YourNewName'\n",
    "\n",
    "vars(p)"
   ]
  },
  {
   "cell_type": "code",
   "execution_count": 59,
   "metadata": {},
   "outputs": [
    {
     "data": {
      "text/plain": [
       "{'name': 'YourNewName', 'shoesize': 46}"
      ]
     },
     "execution_count": 59,
     "metadata": {},
     "output_type": "execute_result"
    }
   ],
   "source": [
    "# whenever you want, you can assign to any attribute on an object\n",
    "\n",
    "# if you assign to an attribute that doesn't yet exist, it is created!\n",
    "\n",
    "p.shoesize = 46\n",
    "vars(p)"
   ]
  },
  {
   "cell_type": "code",
   "execution_count": 60,
   "metadata": {},
   "outputs": [
    {
     "data": {
      "text/plain": [
       "{'name': 'YourNewName', 'shoesize': 46, 'shoe_size': 47}"
      ]
     },
     "execution_count": 60,
     "metadata": {},
     "output_type": "execute_result"
    }
   ],
   "source": [
    "# this means that if you accidentally assign to the wrong attribute, or a misspelled name,\n",
    "# or with the wrong capitalization, bad news!\n",
    "\n",
    "p.shoe_size = 47\n",
    "vars(p)"
   ]
  },
  {
   "cell_type": "code",
   "execution_count": 62,
   "metadata": {},
   "outputs": [
    {
     "data": {
      "text/plain": [
       "{'name': 'YourNewName', 'shoesize': 46, 'shoe_size': 47}"
      ]
     },
     "execution_count": 62,
     "metadata": {},
     "output_type": "execute_result"
    }
   ],
   "source": [
    "p.__dict__ # not the same as vars, but pretty close (for now)"
   ]
  },
  {
   "cell_type": "markdown",
   "metadata": {},
   "source": [
    "# What about other methods? What about getters and setters?\n",
    "\n",
    "We can define any methods we want on our class. The method can do whatever we want, and it can take whatever parameters we want. The only rule is that the first parameter will always get the instance, and that it's normally (conventionally) called `self`."
   ]
  },
  {
   "cell_type": "code",
   "execution_count": 63,
   "metadata": {},
   "outputs": [],
   "source": [
    "\n",
    "class Person:\n",
    "    def __init__(self, first, last):\n",
    "        self.first = first\n",
    "        self.last = last\n",
    "    def fullname(self):  # a new method! It takes self as an argument (automatically)\n",
    "        return f'{self.first} {self.last}'\n",
    "\n",
    "p = Person('Reuven', 'Lerner')"
   ]
  },
  {
   "cell_type": "code",
   "execution_count": 64,
   "metadata": {},
   "outputs": [
    {
     "data": {
      "text/plain": [
       "'Reuven Lerner'"
      ]
     },
     "execution_count": 64,
     "metadata": {},
     "output_type": "execute_result"
    }
   ],
   "source": [
    "p.fullname()   # invoke the method on p..."
   ]
  },
  {
   "cell_type": "code",
   "execution_count": 65,
   "metadata": {},
   "outputs": [
    {
     "data": {
      "text/plain": [
       "'Reuven Lerner'"
      ]
     },
     "execution_count": 65,
     "metadata": {},
     "output_type": "execute_result"
    }
   ],
   "source": [
    "# behind the scenes, Python is rewriting our method call from p.fullname() to..\n",
    "\n",
    "Person.fullname(p)    # this rewritten version explains how p is assigned to self!"
   ]
  },
  {
   "cell_type": "markdown",
   "metadata": {},
   "source": [
    "A huge part of object-oriented programming is writing methods, reflecting the functionality you want for the data type you've created. They can be specialized for the data type, and give you that higher level of abstraction/thinking that we talked about.\n",
    "\n",
    "You might, if you've ever worked with objects before, feel **VERY ODD** about how we're just setting and retrieving attributes on our object. Shouldn't we be using special methods, known as \"getters\" and \"setters\" to do this? That is, if we want to assign to an attribute, we should go through a setter method. And if we want to retrieve an attribute, we should go through a \"getter\" method.\n",
    "\n",
    "We can define these!"
   ]
  },
  {
   "cell_type": "code",
   "execution_count": 66,
   "metadata": {},
   "outputs": [
    {
     "name": "stdout",
     "output_type": "stream",
     "text": [
      "Reuven\n",
      "Lerner\n",
      "NewFirst\n",
      "NewLast\n"
     ]
    }
   ],
   "source": [
    "\n",
    "class Person:\n",
    "    def __init__(self, first, last):\n",
    "        self.first = first\n",
    "        self.last = last\n",
    "\n",
    "    # setter methods, or (more formally) mutators\n",
    "    def set_first(self, new_first):\n",
    "        self.first = new_first\n",
    "    def set_last(self, new_last):\n",
    "        self.last = new_last\n",
    "    \n",
    "    # getter methods, or (more formally) accessors\n",
    "    def get_first(self):\n",
    "        return self.first\n",
    "    def get_last(self):\n",
    "        return self.last\n",
    "\n",
    "# this 100% works!\n",
    "p = Person('Reuven', 'Lerner')\n",
    "print(p.get_first())\n",
    "print(p.get_last())\n",
    "\n",
    "p.set_first('NewFirst')\n",
    "p.set_last('NewLast')\n",
    "\n",
    "print(p.get_first())\n",
    "print(p.get_last())"
   ]
  },
  {
   "cell_type": "markdown",
   "metadata": {},
   "source": [
    "# We almost never write getters and setters in Python, though.\n",
    "\n",
    "This comes as a shock to people coming from other languages, where getters/setters are natural, expected, and even mandatory.\n",
    "\n",
    "This is in no small part because everything in Python is *public*, there are no ways to restrict attributes to being secret, aka \"private\" or \"protected.\" Those ideas do not exist in the Python language! And thus, because everything is public, there is no incentive to hide the attributes behind methods.\n",
    "\n",
    "Instead of using getter methods, we just turn directly to the attribute and retrieve it, as `p.first`.\n",
    "\n",
    "Instead of using setter methods, we just turn directly to the attribute and assign to it, as `p.first = 'NewFirst'`.\n",
    "\n",
    "People who have taken courses in object-oriented programming in college typically get VERY FREAKED OUT about this.\n",
    "\n",
    "It is rare to have getters and setters in Python, because we just don't need them.\n",
    "\n",
    "Except... what if we want to filter the new value that someone gives us? If we have a setter method, we can do that. If people just assign directly, how can we stop them from giving illegal values?\n",
    "\n",
    "Short answer: We can't. We have to trust them.\n",
    "\n",
    "Longer answer: We can use \"properties\" in Python, which are an advanced feature."
   ]
  },
  {
   "cell_type": "markdown",
   "metadata": {},
   "source": [
    "# Exercise: Ice cream scoop\n",
    "\n",
    "1. Define a class, `Scoop`. Each instance of `Scoop` represents a single scoop of ice cream.\n",
    "2. Each scoop has one attribute, `flavor`, which is assigned when we create the instance. That will be a string value.\n",
    "3. Define three instances of `Scoop`, each with a different flavor. Put them into a Python list, iterate over the list, and print the flavor for each one."
   ]
  },
  {
   "cell_type": "code",
   "execution_count": 67,
   "metadata": {},
   "outputs": [
    {
     "name": "stdout",
     "output_type": "stream",
     "text": [
      "chocolate\n",
      "vanilla\n",
      "coffee\n"
     ]
    }
   ],
   "source": [
    "class Scoop:\n",
    "    def __init__(self, flavor):\n",
    "        self.flavor = flavor\n",
    "\n",
    "s1 = Scoop('chocolate')\n",
    "s2 = Scoop('vanilla')\n",
    "s3 = Scoop('coffee')\n",
    "\n",
    "all_scoops = [s1, s2, s3]\n",
    "\n",
    "for one_scoop in all_scoops:    # go over each scoop instance\n",
    "    print(one_scoop.flavor)     # ask each scoop instance for its flavor"
   ]
  },
  {
   "cell_type": "markdown",
   "metadata": {},
   "source": [
    "# What about more than one class?\n",
    "\n",
    "It's very nice that we can create any number of `Scoop` instances and set/retrieve their flavors. But what if we want to represent our ice cream universe in a more serious way? For example, maybe we want to put our scoops in a bowl?\n",
    "\n",
    "To do that, we'll need a `Bowl` class, one which contains some instances of `Scoop`."
   ]
  },
  {
   "cell_type": "code",
   "execution_count": 70,
   "metadata": {},
   "outputs": [
    {
     "name": "stdout",
     "output_type": "stream",
     "text": [
      "{'flavor': 'vanilla'}\n",
      "{'flavor': 'chocolate'}\n",
      "{'flavor': 'strawberry'}\n"
     ]
    }
   ],
   "source": [
    "# QJ\n",
    "\n",
    "class Scoop:\n",
    "    def __init__(self, flavor):\n",
    "        self.flavor = flavor\n",
    "        \n",
    "flavorlist = ['vanilla', 'chocolate', 'strawberry']\n",
    "icecream0 = Scoop(flavorlist[0])\n",
    "icecream1 = Scoop(flavorlist[1])\n",
    "icecream2 = Scoop(flavorlist[2])\n",
    "\n",
    "print(vars(icecream0))\n",
    "print(vars(icecream1))\n",
    "print(vars(icecream2))"
   ]
  },
  {
   "cell_type": "markdown",
   "metadata": {},
   "source": [
    "# Exercise: `Bowl`\n",
    "\n",
    "1. Define a new class, `Bowl`. Each instance of `Bowl` will have a single attribute, `scoops` -- which, when we create the instance, will be an empty list.\n",
    "2. Define a new method on `Bowl`, `add_scoop`, which adds a single instance of `Scoop` to the `scoops` list in the `Bowl` instance.\n",
    "3. It should be possible to create a new instance of `Bowl` and then to invoke `add_scoop` three times, once for each of the scoops we created."
   ]
  },
  {
   "cell_type": "code",
   "execution_count": 73,
   "metadata": {},
   "outputs": [
    {
     "data": {
      "text/plain": [
       "3"
      ]
     },
     "execution_count": 73,
     "metadata": {},
     "output_type": "execute_result"
    }
   ],
   "source": [
    "class Scoop:\n",
    "    def __init__(self, flavor):\n",
    "        self.flavor = flavor\n",
    "\n",
    "s1 = Scoop('chocolate')\n",
    "s2 = Scoop('vanilla')\n",
    "s3 = Scoop('coffee')\n",
    "\n",
    "class Bowl:\n",
    "    def __init__(self):\n",
    "        self.scoops = []    # scoops is an attribute on the instance of Bowl -- a list of Scoop objects\n",
    "    def add_scoop(self, one_scoop):\n",
    "        self.scoops.append(one_scoop)  # add the new scoop to the end of self.flavors (a list)\n",
    "\n",
    "b = Bowl()\n",
    "b.add_scoop(s1)\n",
    "b.add_scoop(s2)\n",
    "b.add_scoop(s3)\n",
    "len(b.scoops)   # what is the length of that list?\n"
   ]
  },
  {
   "cell_type": "code",
   "execution_count": 75,
   "metadata": {},
   "outputs": [
    {
     "name": "stdout",
     "output_type": "stream",
     "text": [
      "strawberry\n",
      "vanilla\n",
      "mushroom\n"
     ]
    }
   ],
   "source": [
    "# RF\n",
    "\n",
    "class Scoop:\n",
    "    def __init__(self, flavor):\n",
    "        self.flavor = flavor\n",
    "\n",
    "ice1 = Scoop('strawberry')\n",
    "ice2 = Scoop('vanilla')\n",
    "ice3 = Scoop('mushroom')\n",
    "\n",
    "ScoopList = [ice1, ice2, ice3]  # list of scoops (rather than a list of flavors/strings)\n",
    "\n",
    "for ice in ScoopList:\n",
    "    print(ice.flavor)"
   ]
  },
  {
   "cell_type": "code",
   "execution_count": 78,
   "metadata": {},
   "outputs": [
    {
     "name": "stdout",
     "output_type": "stream",
     "text": [
      "chocolate\n",
      "vanilla\n",
      "strawberry\n"
     ]
    }
   ],
   "source": [
    "# AG\n",
    "\n",
    "class Scoop:\n",
    "    def __init__(self, flavor):\n",
    "        self.flavor = flavor\n",
    "\n",
    "scoop1 = Scoop(\"chocolate\")\n",
    "scoop2 = Scoop(\"vanilla\")\n",
    "scoop3 = Scoop(\"strawberry\")\n",
    "\n",
    "f_list = [scoop1, scoop2, scoop3]\n",
    "for s in f_list:\n",
    "    print(s.flavor)"
   ]
  },
  {
   "cell_type": "code",
   "execution_count": 82,
   "metadata": {},
   "outputs": [
    {
     "data": {
      "text/plain": [
       "3"
      ]
     },
     "execution_count": 82,
     "metadata": {},
     "output_type": "execute_result"
    }
   ],
   "source": [
    "# VO\n",
    "\n",
    "class Bowl:\n",
    "    def __init__(self):\n",
    "        self.scoops = []\n",
    "    def add_scoop(self,sc):\n",
    "        self.scoops.append(sc)\n",
    "        \n",
    "b = Bowl()   # get a new instance of Bowl\n",
    "s1 = b.add_scoop('Piña')   # Python rewrites this to be Bowl.add_scoop(b, 'Piña')\n",
    "s2 = b.add_scoop('Fresa')\n",
    "s3 = b.add_scoop('Mango')\n",
    "\n",
    "len(b.scoops)"
   ]
  },
  {
   "cell_type": "code",
   "execution_count": 84,
   "metadata": {},
   "outputs": [
    {
     "data": {
      "text/plain": [
       "3"
      ]
     },
     "execution_count": 84,
     "metadata": {},
     "output_type": "execute_result"
    }
   ],
   "source": [
    "# KH\n",
    "\n",
    "class Scoop:\n",
    "    def __init__(self, flavor):\n",
    "        self.flavor = flavor\n",
    "\n",
    "s1 = Scoop('chocolate')\n",
    "s2 = Scoop('vanilla')\n",
    "s3 = Scoop('coffee')\n",
    "\n",
    "class Bowl:\n",
    "    def __init__(self):\n",
    "        self.scoops = []\n",
    "    def add_scoop(self, one_scoop):\n",
    "        self.scoops.append(one_scoop)\n",
    "\n",
    "b = Bowl()\n",
    "b.add_scoop(s1)\n",
    "b.add_scoop(s2)\n",
    "b.add_scoop(s3)\n",
    "len(b.scoops)"
   ]
  },
  {
   "cell_type": "code",
   "execution_count": 85,
   "metadata": {},
   "outputs": [
    {
     "name": "stdout",
     "output_type": "stream",
     "text": [
      "3\n",
      "{'scoops': [<__main__.Scoop object at 0x10ceb3b60>, <__main__.Scoop object at 0x10cfb3250>, <__main__.Scoop object at 0x10cfb2350>]}\n",
      "chocolate\n"
     ]
    }
   ],
   "source": [
    "# SS\n",
    "\n",
    "class Bowl:\n",
    "    def __init__(self, scoops=[]):\n",
    "        self.scoops = scoops\n",
    "\n",
    "    def add_scoop(self, one_scoop):\n",
    "        self.scoops.append(one_scoop)\n",
    "        #return self.scoops\n",
    "\n",
    "bowl1 = Bowl()\n",
    "bowl1.add_scoop(scoop1)\n",
    "bowl1.add_scoop(scoop2)\n",
    "bowl1.add_scoop(scoop3)\n",
    "print(len(bowl1.scoops))\n",
    "print(vars(bowl1))\n",
    "print(bowl1.scoops[0].flavor) #print the first scoop's flavor."
   ]
  },
  {
   "cell_type": "code",
   "execution_count": 87,
   "metadata": {},
   "outputs": [
    {
     "data": {
      "text/plain": [
       "3"
      ]
     },
     "execution_count": 87,
     "metadata": {},
     "output_type": "execute_result"
    }
   ],
   "source": [
    "# walk through this again\n",
    "\n",
    "class Scoop:\n",
    "    def __init__(self, flavor):\n",
    "        self.flavor = flavor\n",
    "\n",
    "s1 = Scoop('chocolate')\n",
    "s2 = Scoop('vanilla')\n",
    "s3 = Scoop('coffee')\n",
    "\n",
    "class Bowl:\n",
    "    def __init__(self):  # this initializes our new bowl, by adding the \"scoops\" attribute -- where we'll put scoops in the bowl\n",
    "        self.scoops = []    # scoops is an attribute on the instance of Bowl -- a list of Scoop objects\n",
    "    def add_scoop(self, one_scoop):\n",
    "        self.scoops.append(one_scoop)  # add the new scoop to the end of self.flavors (a list)\n",
    "\n",
    "b = Bowl()       # create a new instance of Bowl, with an empty \"scoops\" list\n",
    "b.add_scoop(s1)  # append one item (s1) to b.scoops\n",
    "b.add_scoop(s2)  # append s2 to b.scoops\n",
    "b.add_scoop(s3)  # append s3 to b.scoops\n",
    "len(b.scoops)   # what is the length of that list?"
   ]
  },
  {
   "cell_type": "markdown",
   "metadata": {},
   "source": [
    "# Next "
   ]
  }
 ],
 "metadata": {
  "kernelspec": {
   "display_name": "Python 3 (ipykernel)",
   "language": "python",
   "name": "python3"
  },
  "language_info": {
   "codemirror_mode": {
    "name": "ipython",
    "version": 3
   },
   "file_extension": ".py",
   "mimetype": "text/x-python",
   "name": "python",
   "nbconvert_exporter": "python",
   "pygments_lexer": "ipython3",
   "version": "3.13.2"
  }
 },
 "nbformat": 4,
 "nbformat_minor": 4
}
