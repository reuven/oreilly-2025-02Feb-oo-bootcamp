{
 "cells": [
  {
   "cell_type": "markdown",
   "metadata": {},
   "source": [
    "# Agenda, day 2\n",
    "\n",
    "1. Recap + Q&A\n",
    "2. Exercise to warm things up\n",
    "3. Magic methods\n",
    "4. Attributes -- instance attributes and class attributes\n",
    "5. How Python finds attributes via ICPO\n",
    "6. Inheritance -- what it is, and how it works\n",
    "7. Where to go from here?"
   ]
  },
  {
   "cell_type": "markdown",
   "metadata": {},
   "source": [
    "# Object-oriented recap\n",
    "\n",
    "The point of object-oriented programming is to create new types of data structures. These are built on top of the existing Python data structures, but because they do specialized things and have specific names, they are easier for us to think about and work with. We can create any number of new data types, and each type we create can have its own storage (attributes) and actions (methods).\n",
    "\n",
    "But at the end of the day, anything we can do with objects, we can *also* do without objects. So what's the advantage?\n",
    "\n",
    "- By putting those low-level data structures (e.g., strings, ints, lists, dicts) inside of a class, we can think about and reason about our data at a higher level. This frees our mind to think about more important/interesting things, and also means that we can use an existing class in a new class. It's easier to think of several `Scoop` objects in a `Bowl` than several string objects in a list.\n",
    "- Methods are defined on the class, which means that they are tightly bound to a particular type of data. This contrasts with normal functions, which aren't connected to any data structure. This means that if we call a method on a value, Python will quickly tell us if the method exists for that object, or if it's undefined.\n",
    "- We'll define classes (which are data types). A class is a factory for new objects of a particular type. So `str` is the string type, which creates new string objects. And `dict` is the dictionary type, which creates new dictionaries. Each object we create of a particular type is known as an \"instance.\"\n",
    "- The most important method in a class is `__init__`. Its job is to add attributes to the newly created object, just after it is created and before it's returned to the caller. If you don't plan to have any storage or state in your object, then you don't need to define `__init__`. However, it's pretty rare not to define it at all.\n",
    "- `__init__`, like all methods in Python, gets the instance passed to the first parameter, which we normally call `self`. This gives us a way to retrieve values from the instance and also to assign values to the instance -- both via attributes. So we can say `self.x` to retrieve the `x` attribute from `self`, but we can also assign to `self.x` to store a value on that attribute, on that object.\n",
    "- You can think of attributes as a private dictionary (with different syntax) for a given object. Any attribute you set on `self` belongs to that instance, and that instance alone. There isn't any way to say, \"All objects of type X must have attribute Y.\" Instead, in `X.__init__`, we assign to `self.Y`, and that ensures that every new object has `Y` defined before it is returned to the caller.\n",
    "- It's a very good idea to assign to all attributes in `__init__`, even if you only have a placeholder value for it. This makes it much easier for people to understand your code and maintain it.\n",
    "- To read from attribute, just name the object and the attribute, as in `x.y` -- that returns the `y` attribute from object `x`.\n",
    "- To set/update an attribute, just assign to it -- `x.y = 5`.\n",
    "- To define a method, define a function inside of the class body. The first parameter must be `self`, but all other parameters can use all Python function techniques/tricks that we've seen."
   ]
  },
  {
   "cell_type": "code",
   "execution_count": 4,
   "metadata": {},
   "outputs": [],
   "source": [
    "class Person:\n",
    "    def __init__(self, first, last):\n",
    "        self.first = first    # take the value from the first parameter/variable and assign to self's \"first\" attribute\n",
    "        self.last = last      # take the value from the last parameter/variable and assign to self's \"last\" attribute\n",
    "\n",
    "    def greet(self):\n",
    "        return f'Hello, {self.first} {self.last}'  # you must specify self! You cannot just say \"first\" or \"last\"\n",
    "\n",
    "p = Person('Reuven', 'Lerner')        "
   ]
  },
  {
   "cell_type": "code",
   "execution_count": 5,
   "metadata": {},
   "outputs": [
    {
     "data": {
      "text/plain": [
       "'Reuven'"
      ]
     },
     "execution_count": 5,
     "metadata": {},
     "output_type": "execute_result"
    }
   ],
   "source": [
    "p.first"
   ]
  },
  {
   "cell_type": "code",
   "execution_count": 6,
   "metadata": {},
   "outputs": [
    {
     "data": {
      "text/plain": [
       "'Lerner'"
      ]
     },
     "execution_count": 6,
     "metadata": {},
     "output_type": "execute_result"
    }
   ],
   "source": [
    "p.last"
   ]
  },
  {
   "cell_type": "code",
   "execution_count": 7,
   "metadata": {},
   "outputs": [
    {
     "data": {
      "text/plain": [
       "'Hello, Reuven Lerner'"
      ]
     },
     "execution_count": 7,
     "metadata": {},
     "output_type": "execute_result"
    }
   ],
   "source": [
    "p.greet()"
   ]
  },
  {
   "cell_type": "code",
   "execution_count": null,
   "metadata": {},
   "outputs": [],
   "source": [
    "# we said\n",
    "\n",
    "class Bowl:\n",
    "    def flavors(self):\n",
    "        return [one_scoop.flavor\n",
    "                for one_scoop in self.scoops]"
   ]
  },
  {
   "cell_type": "markdown",
   "metadata": {},
   "source": [
    "# Exercise: Calculator\n",
    "\n",
    "1. Define a `Calculator` class. It will allow us to perform mathematical calculations. Its big advantage is that it'll keep track of every calculation we previously made, making that history available to us.\n",
    "2. When we create a new instance of `Calculator`, make sure that there is a `history` attribute defined, an empty list. We will populate this list moving forward.\n",
    "3. Define a method, `calc`, which takes three arguments -- a number, an operator (as a string), and another number.\n",
    "    - You can decide what operators you want; at least implement `+` and `-`.\n",
    "    - You don't have to do much error checking.\n",
    "    - The result of this calculation will be a dictionary. The dict will have four key-value pairs -- `first` (with the first number), `op` (with the operator)`, `second` (with the second number) and `result` (with the result of the operation).\n",
    "4. Return the dict, but before doing that, append it to the `history` list.\n",
    "5. It should be possible to retrieve an element from the `history` list on the object, getting the appropriate dict.\n",
    "\n",
    "Example:\n",
    "\n",
    "    c = Calculator()\n",
    "    c.calc(10, '+', 3)\n",
    "\n",
    "    {'first':10, 'op':'+', 'second':3, 'result':13}\n",
    "\n",
    "    c.calc(15, '-', 2)\n",
    "\n",
    "    {'first':15, 'op':'-', 'second':2, 'result':13}\n",
    "\n",
    "    c.history[-1]\n",
    "    {'first':15, 'op':'-', 'second':2, 'result':13}\n",
    "    "
   ]
  },
  {
   "cell_type": "code",
   "execution_count": 9,
   "metadata": {},
   "outputs": [
    {
     "data": {
      "text/plain": [
       "[]"
      ]
     },
     "execution_count": 9,
     "metadata": {},
     "output_type": "execute_result"
    }
   ],
   "source": [
    "class Calculator:\n",
    "    def __init__(self):\n",
    "        self.history = []\n",
    "    def calc(self, first, op, second):\n",
    "        if op == '+':\n",
    "            result = first + second\n",
    "        elif op == '-':\n",
    "            result = first - second\n",
    "        else:\n",
    "            result = f'Unknown operator {op}'\n",
    "\n",
    "        output = {'first':first, 'op':op, 'second':second, 'result':result}\n",
    "        self.history.append(output)\n",
    "        return output\n",
    "\n",
    "c = Calculator()\n",
    "c.history                "
   ]
  },
  {
   "cell_type": "code",
   "execution_count": 10,
   "metadata": {},
   "outputs": [
    {
     "data": {
      "text/plain": [
       "{'first': 10, 'op': '+', 'second': 4, 'result': 14}"
      ]
     },
     "execution_count": 10,
     "metadata": {},
     "output_type": "execute_result"
    }
   ],
   "source": [
    "c.calc(10, '+', 4)"
   ]
  },
  {
   "cell_type": "code",
   "execution_count": 11,
   "metadata": {},
   "outputs": [
    {
     "data": {
      "text/plain": [
       "{'first': 200, 'op': '-', 'second': 15, 'result': 185}"
      ]
     },
     "execution_count": 11,
     "metadata": {},
     "output_type": "execute_result"
    }
   ],
   "source": [
    "c.calc(200, '-', 15)"
   ]
  },
  {
   "cell_type": "code",
   "execution_count": 12,
   "metadata": {},
   "outputs": [
    {
     "data": {
      "text/plain": [
       "[{'first': 10, 'op': '+', 'second': 4, 'result': 14},\n",
       " {'first': 200, 'op': '-', 'second': 15, 'result': 185}]"
      ]
     },
     "execution_count": 12,
     "metadata": {},
     "output_type": "execute_result"
    }
   ],
   "source": [
    "c.history"
   ]
  },
  {
   "cell_type": "code",
   "execution_count": 13,
   "metadata": {},
   "outputs": [
    {
     "data": {
      "text/plain": [
       "{'first': 200, 'op': '-', 'second': 15, 'result': 185}"
      ]
     },
     "execution_count": 13,
     "metadata": {},
     "output_type": "execute_result"
    }
   ],
   "source": [
    "c.history[-1]"
   ]
  },
  {
   "cell_type": "code",
   "execution_count": 14,
   "metadata": {},
   "outputs": [
    {
     "name": "stdout",
     "output_type": "stream",
     "text": [
      "{'first': 10, 'op': '+', 'second': 3, 'result': 13}\n",
      "{'first': 15, 'op': '-', 'second': 2, 'result': 17}\n",
      "{'first': 15, 'op': '-', 'second': 2, 'result': 17}\n"
     ]
    }
   ],
   "source": [
    "# NO\n",
    "\n",
    "class Calculator:\n",
    "    def __init__(self):\n",
    "        self.history = []\n",
    "\n",
    "    def calc(self, num1, op, num2):\n",
    "        if op == '+':\n",
    "            result = num1 + num2\n",
    "        elif op == '-':\n",
    "            result = num1 + num2\n",
    "        resultdict = dict(first=num1, op=op, second=num2, result=result)\n",
    "        self.history.append(resultdict)\n",
    "        return resultdict\n",
    "\n",
    "\n",
    "c = Calculator()\n",
    "print(c.calc(10, '+', 3))\n",
    "print(c.calc(15, '-', 2))\n",
    "print(c.history[-1])"
   ]
  },
  {
   "cell_type": "code",
   "execution_count": 15,
   "metadata": {},
   "outputs": [
    {
     "ename": "TypeError",
     "evalue": "Calculator.calc() missing 1 required positional argument: 'num2'",
     "output_type": "error",
     "traceback": [
      "\u001b[0;31m---------------------------------------------------------------------------\u001b[0m",
      "\u001b[0;31mTypeError\u001b[0m                                 Traceback (most recent call last)",
      "Cell \u001b[0;32mIn[15], line 18\u001b[0m\n\u001b[1;32m     15\u001b[0m     \u001b[38;5;28;01mreturn\u001b[39;00m output\n\u001b[1;32m     17\u001b[0m c \u001b[38;5;241m=\u001b[39m Calculator\n\u001b[0;32m---> 18\u001b[0m \u001b[43mc\u001b[49m\u001b[38;5;241;43m.\u001b[39;49m\u001b[43mcalc\u001b[49m\u001b[43m(\u001b[49m\u001b[38;5;241;43m5\u001b[39;49m\u001b[43m,\u001b[49m\u001b[38;5;124;43m'\u001b[39;49m\u001b[38;5;124;43m+\u001b[39;49m\u001b[38;5;124;43m'\u001b[39;49m\u001b[43m,\u001b[49m\u001b[38;5;241;43m6\u001b[39;49m\u001b[43m)\u001b[49m\n",
      "\u001b[0;31mTypeError\u001b[0m: Calculator.calc() missing 1 required positional argument: 'num2'"
     ]
    }
   ],
   "source": [
    "# AG\n",
    "\n",
    "class Calculator:\n",
    "  def __init__(self):\n",
    "    self.his=[]\n",
    "  def calc(self,num1,op,num2):\n",
    "    if op == '+':\n",
    "      res = num1 + num2\n",
    "    elif op == '-':\n",
    "      res = num1 - num2\n",
    "    else:\n",
    "      res = f'Operation {op} not supported'\n",
    "    output = {'first':first, 'op':op, 'second':second, 'result':res}\n",
    "    self.his.append(output)\n",
    "    return output\n",
    "\n",
    "c = Calculator()   # use () to invoke the class, and thus get back a new Calculator object\n",
    "c.calc(5,'+',6)"
   ]
  },
  {
   "cell_type": "markdown",
   "metadata": {},
   "source": [
    "# Returning values \n",
    "\n",
    "When we invoke a function or method, it's because that function performs some operation and returns a value back. We normally expect to be able to capture the value returned from a function.\n",
    "\n",
    "```python\n",
    "s = 'abcd'\n",
    "n = len(s)   # here, I've captured the output from len(s) in the variable n\n",
    "```\n",
    "\n",
    "How can a function return a value to the caller? With the `return` statement. We can `return` any Python value at all, from the smallest to the largest and most complex. We just say\n",
    "\n",
    "```python\n",
    "return x\n",
    "```\n",
    "\n",
    "and the function immediately stops running, and returns `x` (whatever it is) to the caller.\n",
    "\n",
    "If you don't have an explicit `return` in your function, then it automatically returns the special value `None` when the function ends.\n",
    "\n"
   ]
  },
  {
   "cell_type": "markdown",
   "metadata": {},
   "source": [
    "# Displaying our calculator\n",
    "\n",
    "What happens if I have `c`, my instance of `Calculator`, and I try to `print` it?"
   ]
  },
  {
   "cell_type": "code",
   "execution_count": 17,
   "metadata": {},
   "outputs": [
    {
     "name": "stdout",
     "output_type": "stream",
     "text": [
      "<__main__.Calculator object at 0x10dc78c20>\n"
     ]
    }
   ],
   "source": [
    "class Calculator:\n",
    "    def __init__(self):\n",
    "        self.history = []\n",
    "    def calc(self, first, op, second):\n",
    "        if op == '+':\n",
    "            result = first + second\n",
    "        elif op == '-':\n",
    "            result = first - second\n",
    "        else:\n",
    "            result = f'Unknown operator {op}'\n",
    "\n",
    "        output = {'first':first, 'op':op, 'second':second, 'result':result}\n",
    "        self.history.append(output)\n",
    "        return output\n",
    "\n",
    "c = Calculator()\n",
    "c.history                \n",
    "\n",
    "print(c)"
   ]
  },
  {
   "cell_type": "markdown",
   "metadata": {},
   "source": [
    "What is printed? The name of the class, the fact that it's an object (duh!) and the address in memory where the object is being stored.\n",
    "\n",
    "You cannot use this memory location in any way, shape, or form. It's just a number.\n",
    "\n",
    "Why does it work this way? What's going on? \n",
    "\n",
    "We didn't tell Python how we want our program to respond to `print`, or turning it into a `str` in general. So it uses the default functionality, which is rather ugly.\n",
    "\n",
    "If we want our class to do the right thing, we can define a method called `__str__`. As you can see, it is special, with a double underscore before and after the name. This makes it a \"magic method\" or a \"dunder method,\" one which if we define it, Python uses instead of its defaults. \n",
    "\n",
    "Normally, we don't call dunder methods directly! We let Python call them for us, on our behalf."
   ]
  },
  {
   "cell_type": "code",
   "execution_count": 19,
   "metadata": {},
   "outputs": [
    {
     "name": "stdout",
     "output_type": "stream",
     "text": [
      "{'first': 10, 'op': '+', 'second': 3, 'result': 13}\n",
      "{'first': 15, 'op': '-', 'second': 2, 'result': 13}\n",
      "10 + 3 = 13\n",
      "15 - 2 = 13\n"
     ]
    }
   ],
   "source": [
    "class Calculator:\n",
    "    def __init__(self):\n",
    "        self.history = []\n",
    "    def calc(self, first, op, second):\n",
    "        if op == '+':\n",
    "            result = first + second\n",
    "        elif op == '-':\n",
    "            result = first - second\n",
    "        else:\n",
    "            result = f'Unknown operator {op}'\n",
    "\n",
    "        output = {'first':first, 'op':op, 'second':second, 'result':result}\n",
    "        self.history.append(output)\n",
    "        return output\n",
    "\n",
    "    def __str__(self):\n",
    "        output = []\n",
    "\n",
    "        for one_item in self.history:\n",
    "            output.append(f'{one_item['first']} {one_item['op']} {one_item['second']} = {one_item['result']}')\n",
    "        return '\\n'.join(output)  # output is a list of strings; __str__ must return a string, so I join them together to get one string\n",
    "        \n",
    "\n",
    "c = Calculator()\n",
    "print(c.calc(10, '+', 3))\n",
    "print(c.calc(15, '-', 2))\n",
    "print(c)   # when I say print(c), this asks c to turn itself into a string, which causes __str__ to run"
   ]
  },
  {
   "cell_type": "code",
   "execution_count": 20,
   "metadata": {},
   "outputs": [
    {
     "name": "stdout",
     "output_type": "stream",
     "text": [
      "10 + 3 = 13\n",
      "15 - 2 = 13\n"
     ]
    }
   ],
   "source": [
    "print(c)"
   ]
  },
  {
   "cell_type": "markdown",
   "metadata": {},
   "source": [
    "# `__str__`\n",
    "\n",
    "You can teach your class how to behave when it is turned into a string or printed, by defining `__str__`. This method, if you define it, takes no arguments (other than `self`), and it returns a string. The string can be as complex or simple as you like!"
   ]
  },
  {
   "cell_type": "markdown",
   "metadata": {},
   "source": [
    "# Exercise: Printable scoops\n",
    "\n",
    "1. Go back to yesterday's code with `Scoop` and `Bowl`.\n",
    "2. Change the `Scoop` class such that if we `print` an instance of `Scoop`, we get the string back `Scoop of *flavor*`.\n",
    "3. Also (in the same way), if I invoke `str(s1)`, I should get back the string `Scoop of chocolate`"
   ]
  },
  {
   "cell_type": "code",
   "execution_count": 22,
   "metadata": {},
   "outputs": [
    {
     "name": "stdout",
     "output_type": "stream",
     "text": [
      "Scoop of chocolate\n",
      "Scoop of vanilla\n",
      "Scoop of coffee\n"
     ]
    }
   ],
   "source": [
    "class Scoop:\n",
    "    def __init__(self, flavor):\n",
    "        self.flavor = flavor\n",
    "    def __str__(self):\n",
    "        return f'Scoop of {self.flavor}'\n",
    "\n",
    "s1 = Scoop('chocolate')\n",
    "s2 = Scoop('vanilla')\n",
    "s3 = Scoop('coffee')\n",
    "\n",
    "print(s1)\n",
    "print(s2)\n",
    "print(s3)"
   ]
  },
  {
   "cell_type": "code",
   "execution_count": 23,
   "metadata": {},
   "outputs": [
    {
     "data": {
      "text/plain": [
       "'Scoop of chocolate'"
      ]
     },
     "execution_count": 23,
     "metadata": {},
     "output_type": "execute_result"
    }
   ],
   "source": [
    "str(s1)   # this \"str\" is a class in Python, not a method -- we invoke str(s1), which leads to s1.__str__() being called"
   ]
  },
  {
   "cell_type": "code",
   "execution_count": 24,
   "metadata": {},
   "outputs": [
    {
     "name": "stdout",
     "output_type": "stream",
     "text": [
      "Scoop of chocolate\n"
     ]
    }
   ],
   "source": [
    "x = str(s1)\n",
    "print(x)"
   ]
  },
  {
   "cell_type": "code",
   "execution_count": 26,
   "metadata": {},
   "outputs": [
    {
     "name": "stdout",
     "output_type": "stream",
     "text": [
      "Scoop of chocolate\n"
     ]
    }
   ],
   "source": [
    "print(s1)    # behind the scenes, this is turned into print(str(s1)), which then becomes print(s1.__str__())"
   ]
  },
  {
   "cell_type": "markdown",
   "metadata": {},
   "source": [
    "# Next up\n",
    "\n",
    "1. More magic methods, and more adding/using them on our classes\n",
    "2. Attributes on classes\n",
    "3. Searching for attributes\n",
    "\n"
   ]
  },
  {
   "cell_type": "code",
   "execution_count": 27,
   "metadata": {},
   "outputs": [
    {
     "name": "stdout",
     "output_type": "stream",
     "text": [
      "['chocolate', 'vanilla', 'coffee']\n",
      "<__main__.Bowl object at 0x10dc79400>\n"
     ]
    }
   ],
   "source": [
    "class Scoop:\n",
    "    def __init__(self, flavor):\n",
    "        self.flavor = flavor\n",
    "    def __str__(self):\n",
    "        return f'Scoop of {self.flavor}'\n",
    "\n",
    "s1 = Scoop('chocolate')\n",
    "s2 = Scoop('vanilla')\n",
    "s3 = Scoop('coffee')\n",
    "\n",
    "class Bowl:\n",
    "    def __init__(self):  # this initializes our new bowl, by adding the \"scoops\" attribute -- where we'll put scoops in the bowl\n",
    "        self.scoops = []    # scoops is an attribute on the instance of Bowl -- a list of Scoop objects\n",
    "\n",
    "    def add_scoops(self, *args):   # any/all positional arguments will be on the \"args\" tuple\n",
    "        for one_scoop in args:\n",
    "            self.scoops.append(one_scoop)  # add the new scoop to the end of self.flavors (a list)\n",
    "\n",
    "    def flavors(self):\n",
    "        return [one_scoop.flavor\n",
    "                for one_scoop in self.scoops]\n",
    "\n",
    "b = Bowl()       # create a new instance of Bowl, with an empty \"scoops\" list\n",
    "b.add_scoops(s1, s2)\n",
    "b.add_scoops(s3)\n",
    "\n",
    "print(b.flavors())      # get a list of strings back\n",
    "\n",
    "print(b)    # what will happen when I do this?"
   ]
  },
  {
   "cell_type": "markdown",
   "metadata": {},
   "source": [
    "# Exercise: Make `Bowl` printable, too\n",
    "\n",
    "1. Modify `Bowl` such that it also handles being printed (i.e., by implementing `__str__` on it)\n",
    "2. But `Bowl.__str__` should return a string with all of the scoops, listed one by one.\n",
    "\n",
    "Example:\n",
    "\n",
    "    print(b)\n",
    "\n",
    "    Bowl of:\n",
    "    - Scoop of chocolate\n",
    "    - Scoop of vanilla\n",
    "    - Scoop of coffee\n",
    "\n",
    "    "
   ]
  },
  {
   "cell_type": "code",
   "execution_count": 31,
   "metadata": {},
   "outputs": [
    {
     "name": "stdout",
     "output_type": "stream",
     "text": [
      "['chocolate', 'vanilla', 'coffee']\n",
      "Bowl with:\n",
      "- Scoop of chocolate\n",
      "- Scoop of vanilla\n",
      "- Scoop of coffee\n",
      "\n"
     ]
    }
   ],
   "source": [
    "class Scoop:\n",
    "    def __init__(self, flavor):\n",
    "        self.flavor = flavor\n",
    "    def __str__(self):\n",
    "        return f'Scoop of {self.flavor}'\n",
    "\n",
    "s1 = Scoop('chocolate')\n",
    "s2 = Scoop('vanilla')\n",
    "s3 = Scoop('coffee')\n",
    "\n",
    "class Bowl:\n",
    "    def __init__(self):  # this initializes our new bowl, by adding the \"scoops\" attribute -- where we'll put scoops in the bowl\n",
    "        self.scoops = []    # scoops is an attribute on the instance of Bowl -- a list of Scoop objects\n",
    "\n",
    "    def add_scoops(self, *args):   # any/all positional arguments will be on the \"args\" tuple\n",
    "        for one_scoop in args:\n",
    "            self.scoops.append(one_scoop)  # add the new scoop to the end of self.flavors (a list)\n",
    "\n",
    "    def flavors(self):\n",
    "        return [one_scoop.flavor\n",
    "                for one_scoop in self.scoops]\n",
    "\n",
    "    def __str__(self):\n",
    "        output = 'Bowl with:\\n'\n",
    "        for one_scoop in self.scoops:\n",
    "            output += f'- {one_scoop}\\n'\n",
    "        return output\n",
    "\n",
    "b = Bowl()       # create a new instance of Bowl, with an empty \"scoops\" list\n",
    "b.add_scoops(s1, s2)\n",
    "b.add_scoops(s3)\n",
    "\n",
    "print(b.flavors())      # get a list of strings back\n",
    "\n",
    "print(b)    # what will happen when I do this?"
   ]
  },
  {
   "cell_type": "code",
   "execution_count": 32,
   "metadata": {},
   "outputs": [
    {
     "name": "stdout",
     "output_type": "stream",
     "text": [
      "[<__main__.Scoop object at 0x10dc79160>, <__main__.Scoop object at 0x10e228190>, <__main__.Scoop object at 0x10e228690>]\n"
     ]
    }
   ],
   "source": [
    "# what about this?\n",
    "\n",
    "my_scoops = [s1, s2, s3]\n",
    "\n",
    "print(my_scoops)"
   ]
  },
  {
   "cell_type": "markdown",
   "metadata": {},
   "source": [
    "# `__str__` isn't the entire picture\n",
    "\n",
    "There are actually *two* methods that are invoked when we want to turn a value into a string:\n",
    "\n",
    "- `__str__`, which is used by `print` and `str`, and gives us a string suitable for end users\n",
    "- `__repr__`, which is used inside of Jupyter and debuggers, and gives us a string suitable for coders who are working on a Python program\n",
    "\n",
    "If you want, and according to the official Python standards, you should define these separately, so that each audience gets a different string.\n",
    "\n",
    "In reality"
   ]
  }
 ],
 "metadata": {
  "kernelspec": {
   "display_name": "Python 3 (ipykernel)",
   "language": "python",
   "name": "python3"
  },
  "language_info": {
   "codemirror_mode": {
    "name": "ipython",
    "version": 3
   },
   "file_extension": ".py",
   "mimetype": "text/x-python",
   "name": "python",
   "nbconvert_exporter": "python",
   "pygments_lexer": "ipython3",
   "version": "3.13.2"
  }
 },
 "nbformat": 4,
 "nbformat_minor": 4
}
