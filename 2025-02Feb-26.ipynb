{
 "cells": [
  {
   "cell_type": "markdown",
   "metadata": {},
   "source": [
    "# Agenda, day 2\n",
    "\n",
    "1. Recap + Q&A\n",
    "2. Exercise to warm things up\n",
    "3. Magic methods\n",
    "4. Attributes -- instance attributes and class attributes\n",
    "5. How Python finds attributes via ICPO\n",
    "6. Inheritance -- what it is, and how it works\n",
    "7. Where to go from here?"
   ]
  },
  {
   "cell_type": "markdown",
   "metadata": {},
   "source": [
    "# Object-oriented recap\n",
    "\n",
    "The point of object-oriented programming is to create new types of data structures. These are built on top of the existing Python data structures, but because they do specialized things and have specific names, they are easier for us to think about and work with. We can create any number of new data types, and each type we create can have its own storage (attributes) and actions (methods).\n",
    "\n",
    "But at the end of the day, anything we can do with objects, we can *also* do without objects. So what's the advantage?\n",
    "\n",
    "- By putting those low-level data structures (e.g., strings, ints, lists, dicts) inside of a class, we can think about and reason about our data at a higher level. This frees our mind to think about more important/interesting things, and also means that we can use an existing class in a new class. It's easier to think of several `Scoop` objects in a `Bowl` than several string objects in a list.\n",
    "- Methods are defined on the class, which means that they are tightly bound to a particular type of data. This contrasts with normal functions, which aren't connected to any data structure. This means that if we call a method on a value, Python will quickly tell us if the method exists for that object, or if it's undefined.\n",
    "- We'll define classes (which are data types). A class is a factory for new objects of a particular type. So `str` is the string type, which creates new string objects. And `dict` is the dictionary type, which creates new dictionaries. Each object we create of a particular type is known as an \"instance.\"\n",
    "- The most important method in a class is `__init__`. Its job is to add attributes to the newly created object, just after it is created and before it's returned to the caller. If you don't plan to have any storage or state in your object, then you don't need to define `__init__`. However, it's pretty rare not to define it at all.\n",
    "- `__init__`, like all methods in Python, gets the instance passed to the first parameter, which we normally call `self`. This gives us a way to retrieve values from the instance and also to assign values to the instance -- both via attributes. So we can say `self.x` to retrieve the `x` attribute from `self`, but we can also assign to `self.x` to store a value on that attribute, on that object.\n",
    "- You can think of attributes as a private dictionary (with different syntax) for a given object. Any attribute you set on `self` belongs to that instance, and that instance alone. There isn't any way to say, \"All objects of type X must have attribute Y.\" Instead, in `X.__init__`, we assign to `self.Y`, and that ensures that every new object has `Y` defined before it is returned to the caller.\n",
    "- It's a very good idea to assign to all attributes in `__init__`, even if you only have a placeholder value for it. This makes it much easier for people to understand your code and maintain it.\n",
    "- To read from attribute, just name the object and the attribute, as in `x.y` -- that returns the `y` attribute from object `x`.\n",
    "- To set/update an attribute, just assign to it -- `x.y = 5`.\n",
    "- To define a method, define a function inside of the class body. The first parameter must be `self`, but all other parameters can use all Python function techniques/tricks that we've seen."
   ]
  },
  {
   "cell_type": "code",
   "execution_count": 4,
   "metadata": {},
   "outputs": [],
   "source": [
    "class Person:\n",
    "    def __init__(self, first, last):\n",
    "        self.first = first    # take the value from the first parameter/variable and assign to self's \"first\" attribute\n",
    "        self.last = last      # take the value from the last parameter/variable and assign to self's \"last\" attribute\n",
    "\n",
    "    def greet(self):\n",
    "        return f'Hello, {self.first} {self.last}'  # you must specify self! You cannot just say \"first\" or \"last\"\n",
    "\n",
    "p = Person('Reuven', 'Lerner')        "
   ]
  },
  {
   "cell_type": "code",
   "execution_count": 5,
   "metadata": {},
   "outputs": [
    {
     "data": {
      "text/plain": [
       "'Reuven'"
      ]
     },
     "execution_count": 5,
     "metadata": {},
     "output_type": "execute_result"
    }
   ],
   "source": [
    "p.first"
   ]
  },
  {
   "cell_type": "code",
   "execution_count": 6,
   "metadata": {},
   "outputs": [
    {
     "data": {
      "text/plain": [
       "'Lerner'"
      ]
     },
     "execution_count": 6,
     "metadata": {},
     "output_type": "execute_result"
    }
   ],
   "source": [
    "p.last"
   ]
  },
  {
   "cell_type": "code",
   "execution_count": 7,
   "metadata": {},
   "outputs": [
    {
     "data": {
      "text/plain": [
       "'Hello, Reuven Lerner'"
      ]
     },
     "execution_count": 7,
     "metadata": {},
     "output_type": "execute_result"
    }
   ],
   "source": [
    "p.greet()"
   ]
  },
  {
   "cell_type": "code",
   "execution_count": null,
   "metadata": {},
   "outputs": [],
   "source": [
    "# we said\n",
    "\n",
    "class Bowl:\n",
    "    def flavors(self):\n",
    "        return [one_scoop.flavor\n",
    "                for one_scoop in self.scoops]"
   ]
  },
  {
   "cell_type": "markdown",
   "metadata": {},
   "source": [
    "# Exercise: Calculator\n",
    "\n",
    "1. Define a `Calculator` class. It will allow us to perform mathematical calculations. Its big advantage is that it'll keep track of every calculation we previously made, making that history available to us.\n",
    "2. When we create a new instance of `Calculator`, make sure that there is a `history` attribute defined, an empty list. We will populate this list moving forward.\n",
    "3. Define a method, `calc`, which takes three arguments -- a number, an operator (as a string), and another number.\n",
    "    - You can decide what operators you want; at least implement `+` and `-`.\n",
    "    - You don't have to do much error checking.\n",
    "    - The result of this calculation will be a dictionary. The dict will have four key-value pairs -- `first` (with the first number), `op` (with the operator)`, `second` (with the second number) and `result` (with the result of the operation).\n",
    "4. Return the dict, but before doing that, append it to the `history` list.\n",
    "5. It should be possible to retrieve an element from the `history` list on the object, getting the appropriate dict.\n",
    "\n",
    "Example:\n",
    "\n",
    "    c = Calculator()\n",
    "    c.calc(10, '+', 3)\n",
    "\n",
    "    {'first':10, 'op':'+', 'second':3, 'result':13}\n",
    "\n",
    "    c.calc(15, '-', 2)\n",
    "\n",
    "    {'first':15, 'op':'-', 'second':2, 'result':13}\n",
    "\n",
    "    c.history[-1]\n",
    "    {'first':15, 'op':'-', 'second':2, 'result':13}\n",
    "    "
   ]
  },
  {
   "cell_type": "code",
   "execution_count": 9,
   "metadata": {},
   "outputs": [
    {
     "data": {
      "text/plain": [
       "[]"
      ]
     },
     "execution_count": 9,
     "metadata": {},
     "output_type": "execute_result"
    }
   ],
   "source": [
    "class Calculator:\n",
    "    def __init__(self):\n",
    "        self.history = []\n",
    "    def calc(self, first, op, second):\n",
    "        if op == '+':\n",
    "            result = first + second\n",
    "        elif op == '-':\n",
    "            result = first - second\n",
    "        else:\n",
    "            result = f'Unknown operator {op}'\n",
    "\n",
    "        output = {'first':first, 'op':op, 'second':second, 'result':result}\n",
    "        self.history.append(output)\n",
    "        return output\n",
    "\n",
    "c = Calculator()\n",
    "c.history                "
   ]
  },
  {
   "cell_type": "code",
   "execution_count": 10,
   "metadata": {},
   "outputs": [
    {
     "data": {
      "text/plain": [
       "{'first': 10, 'op': '+', 'second': 4, 'result': 14}"
      ]
     },
     "execution_count": 10,
     "metadata": {},
     "output_type": "execute_result"
    }
   ],
   "source": [
    "c.calc(10, '+', 4)"
   ]
  },
  {
   "cell_type": "code",
   "execution_count": 11,
   "metadata": {},
   "outputs": [
    {
     "data": {
      "text/plain": [
       "{'first': 200, 'op': '-', 'second': 15, 'result': 185}"
      ]
     },
     "execution_count": 11,
     "metadata": {},
     "output_type": "execute_result"
    }
   ],
   "source": [
    "c.calc(200, '-', 15)"
   ]
  },
  {
   "cell_type": "code",
   "execution_count": 12,
   "metadata": {},
   "outputs": [
    {
     "data": {
      "text/plain": [
       "[{'first': 10, 'op': '+', 'second': 4, 'result': 14},\n",
       " {'first': 200, 'op': '-', 'second': 15, 'result': 185}]"
      ]
     },
     "execution_count": 12,
     "metadata": {},
     "output_type": "execute_result"
    }
   ],
   "source": [
    "c.history"
   ]
  },
  {
   "cell_type": "code",
   "execution_count": 13,
   "metadata": {},
   "outputs": [
    {
     "data": {
      "text/plain": [
       "{'first': 200, 'op': '-', 'second': 15, 'result': 185}"
      ]
     },
     "execution_count": 13,
     "metadata": {},
     "output_type": "execute_result"
    }
   ],
   "source": [
    "c.history[-1]"
   ]
  },
  {
   "cell_type": "code",
   "execution_count": 14,
   "metadata": {},
   "outputs": [
    {
     "name": "stdout",
     "output_type": "stream",
     "text": [
      "{'first': 10, 'op': '+', 'second': 3, 'result': 13}\n",
      "{'first': 15, 'op': '-', 'second': 2, 'result': 17}\n",
      "{'first': 15, 'op': '-', 'second': 2, 'result': 17}\n"
     ]
    }
   ],
   "source": [
    "# NO\n",
    "\n",
    "class Calculator:\n",
    "    def __init__(self):\n",
    "        self.history = []\n",
    "\n",
    "    def calc(self, num1, op, num2):\n",
    "        if op == '+':\n",
    "            result = num1 + num2\n",
    "        elif op == '-':\n",
    "            result = num1 + num2\n",
    "        resultdict = dict(first=num1, op=op, second=num2, result=result)\n",
    "        self.history.append(resultdict)\n",
    "        return resultdict\n",
    "\n",
    "\n",
    "c = Calculator()\n",
    "print(c.calc(10, '+', 3))\n",
    "print(c.calc(15, '-', 2))\n",
    "print(c.history[-1])"
   ]
  },
  {
   "cell_type": "code",
   "execution_count": 15,
   "metadata": {},
   "outputs": [
    {
     "ename": "TypeError",
     "evalue": "Calculator.calc() missing 1 required positional argument: 'num2'",
     "output_type": "error",
     "traceback": [
      "\u001b[0;31m---------------------------------------------------------------------------\u001b[0m",
      "\u001b[0;31mTypeError\u001b[0m                                 Traceback (most recent call last)",
      "Cell \u001b[0;32mIn[15], line 18\u001b[0m\n\u001b[1;32m     15\u001b[0m     \u001b[38;5;28;01mreturn\u001b[39;00m output\n\u001b[1;32m     17\u001b[0m c \u001b[38;5;241m=\u001b[39m Calculator\n\u001b[0;32m---> 18\u001b[0m \u001b[43mc\u001b[49m\u001b[38;5;241;43m.\u001b[39;49m\u001b[43mcalc\u001b[49m\u001b[43m(\u001b[49m\u001b[38;5;241;43m5\u001b[39;49m\u001b[43m,\u001b[49m\u001b[38;5;124;43m'\u001b[39;49m\u001b[38;5;124;43m+\u001b[39;49m\u001b[38;5;124;43m'\u001b[39;49m\u001b[43m,\u001b[49m\u001b[38;5;241;43m6\u001b[39;49m\u001b[43m)\u001b[49m\n",
      "\u001b[0;31mTypeError\u001b[0m: Calculator.calc() missing 1 required positional argument: 'num2'"
     ]
    }
   ],
   "source": [
    "# AG\n",
    "\n",
    "class Calculator:\n",
    "  def __init__(self):\n",
    "    self.his=[]\n",
    "  def calc(self,num1,op,num2):\n",
    "    if op == '+':\n",
    "      res = num1 + num2\n",
    "    elif op == '-':\n",
    "      res = num1 - num2\n",
    "    else:\n",
    "      res = f'Operation {op} not supported'\n",
    "    output = {'first':first, 'op':op, 'second':second, 'result':res}\n",
    "    self.his.append(output)\n",
    "    return output\n",
    "\n",
    "c = Calculator()   # use () to invoke the class, and thus get back a new Calculator object\n",
    "c.calc(5,'+',6)"
   ]
  },
  {
   "cell_type": "markdown",
   "metadata": {},
   "source": [
    "# Returning values \n",
    "\n",
    "When we invoke a function or method, it's because that function performs some operation and returns a value back. We normally expect to be able to capture the value returned from a function.\n",
    "\n",
    "```python\n",
    "s = 'abcd'\n",
    "n = len(s)   # here, I've captured the output from len(s) in the variable n\n",
    "```\n",
    "\n",
    "How can a function return a value to the caller? With the `return` statement. We can `return` any Python value at all, from the smallest to the largest and most complex. We just say\n",
    "\n",
    "```python\n",
    "return x\n",
    "```\n",
    "\n",
    "and the function immediately stops running, and returns `x` (whatever it is) to the caller.\n",
    "\n",
    "If you don't have an explicit `return` in your function, then it automatically returns the special value `None` when the function ends.\n",
    "\n"
   ]
  },
  {
   "cell_type": "markdown",
   "metadata": {},
   "source": [
    "# Displaying our calculator\n",
    "\n",
    "What happens if I have `c`, my instance of `Calculator`, and I try to `print` it?"
   ]
  },
  {
   "cell_type": "code",
   "execution_count": 17,
   "metadata": {},
   "outputs": [
    {
     "name": "stdout",
     "output_type": "stream",
     "text": [
      "<__main__.Calculator object at 0x10dc78c20>\n"
     ]
    }
   ],
   "source": [
    "class Calculator:\n",
    "    def __init__(self):\n",
    "        self.history = []\n",
    "    def calc(self, first, op, second):\n",
    "        if op == '+':\n",
    "            result = first + second\n",
    "        elif op == '-':\n",
    "            result = first - second\n",
    "        else:\n",
    "            result = f'Unknown operator {op}'\n",
    "\n",
    "        output = {'first':first, 'op':op, 'second':second, 'result':result}\n",
    "        self.history.append(output)\n",
    "        return output\n",
    "\n",
    "c = Calculator()\n",
    "c.history                \n",
    "\n",
    "print(c)"
   ]
  },
  {
   "cell_type": "markdown",
   "metadata": {},
   "source": [
    "What is printed? The name of the class, the fact that it's an object (duh!) and the address in memory where the object is being stored.\n",
    "\n",
    "You cannot use this memory location in any way, shape, or form. It's just a number.\n",
    "\n",
    "Why does it work this way? What's going on? \n",
    "\n",
    "We didn't tell Python how we want our program to respond to `print`, or turning it into a `str` in general. So it uses the default functionality, which is rather ugly.\n",
    "\n",
    "If we want our class to do the right thing, we can define a method called `__str__`. As you can see, it is special, with a double underscore before and after the name. This makes it a \"magic method\" or a \"dunder method,\" one which if we define it, Python uses instead of its defaults. \n",
    "\n",
    "Normally, we don't call dunder methods directly! We let Python call them for us, on our behalf."
   ]
  },
  {
   "cell_type": "code",
   "execution_count": 19,
   "metadata": {},
   "outputs": [
    {
     "name": "stdout",
     "output_type": "stream",
     "text": [
      "{'first': 10, 'op': '+', 'second': 3, 'result': 13}\n",
      "{'first': 15, 'op': '-', 'second': 2, 'result': 13}\n",
      "10 + 3 = 13\n",
      "15 - 2 = 13\n"
     ]
    }
   ],
   "source": [
    "class Calculator:\n",
    "    def __init__(self):\n",
    "        self.history = []\n",
    "    def calc(self, first, op, second):\n",
    "        if op == '+':\n",
    "            result = first + second\n",
    "        elif op == '-':\n",
    "            result = first - second\n",
    "        else:\n",
    "            result = f'Unknown operator {op}'\n",
    "\n",
    "        output = {'first':first, 'op':op, 'second':second, 'result':result}\n",
    "        self.history.append(output)\n",
    "        return output\n",
    "\n",
    "    def __str__(self):\n",
    "        output = []\n",
    "\n",
    "        for one_item in self.history:\n",
    "            output.append(f'{one_item['first']} {one_item['op']} {one_item['second']} = {one_item['result']}')\n",
    "        return '\\n'.join(output)  # output is a list of strings; __str__ must return a string, so I join them together to get one string\n",
    "        \n",
    "\n",
    "c = Calculator()\n",
    "print(c.calc(10, '+', 3))\n",
    "print(c.calc(15, '-', 2))\n",
    "print(c)   # when I say print(c), this asks c to turn itself into a string, which causes __str__ to run"
   ]
  },
  {
   "cell_type": "code",
   "execution_count": 20,
   "metadata": {},
   "outputs": [
    {
     "name": "stdout",
     "output_type": "stream",
     "text": [
      "10 + 3 = 13\n",
      "15 - 2 = 13\n"
     ]
    }
   ],
   "source": [
    "print(c)"
   ]
  },
  {
   "cell_type": "markdown",
   "metadata": {},
   "source": [
    "# `__str__`\n",
    "\n",
    "You can teach your class how to behave when it is turned into a string or printed, by defining `__str__`. This method, if you define it, takes no arguments (other than `self`), and it returns a string. The string can be as complex or simple as you like!"
   ]
  },
  {
   "cell_type": "markdown",
   "metadata": {},
   "source": [
    "# Exercise: Printable scoops\n",
    "\n",
    "1. Go back to yesterday's code with `Scoop` and `Bowl`.\n",
    "2. Change the `Scoop` class such that if we `print` an instance of `Scoop`, we get the string back `Scoop of *flavor*`.\n",
    "3. Also (in the same way), if I invoke `str(s1)`, I should get back the string `Scoop of chocolate`"
   ]
  },
  {
   "cell_type": "code",
   "execution_count": 22,
   "metadata": {},
   "outputs": [
    {
     "name": "stdout",
     "output_type": "stream",
     "text": [
      "Scoop of chocolate\n",
      "Scoop of vanilla\n",
      "Scoop of coffee\n"
     ]
    }
   ],
   "source": [
    "class Scoop:\n",
    "    def __init__(self, flavor):\n",
    "        self.flavor = flavor\n",
    "    def __str__(self):\n",
    "        return f'Scoop of {self.flavor}'\n",
    "\n",
    "s1 = Scoop('chocolate')\n",
    "s2 = Scoop('vanilla')\n",
    "s3 = Scoop('coffee')\n",
    "\n",
    "print(s1)\n",
    "print(s2)\n",
    "print(s3)"
   ]
  },
  {
   "cell_type": "code",
   "execution_count": 23,
   "metadata": {},
   "outputs": [
    {
     "data": {
      "text/plain": [
       "'Scoop of chocolate'"
      ]
     },
     "execution_count": 23,
     "metadata": {},
     "output_type": "execute_result"
    }
   ],
   "source": [
    "str(s1)   # this \"str\" is a class in Python, not a method -- we invoke str(s1), which leads to s1.__str__() being called"
   ]
  },
  {
   "cell_type": "code",
   "execution_count": 24,
   "metadata": {},
   "outputs": [
    {
     "name": "stdout",
     "output_type": "stream",
     "text": [
      "Scoop of chocolate\n"
     ]
    }
   ],
   "source": [
    "x = str(s1)\n",
    "print(x)"
   ]
  },
  {
   "cell_type": "code",
   "execution_count": 26,
   "metadata": {},
   "outputs": [
    {
     "name": "stdout",
     "output_type": "stream",
     "text": [
      "Scoop of chocolate\n"
     ]
    }
   ],
   "source": [
    "print(s1)    # behind the scenes, this is turned into print(str(s1)), which then becomes print(s1.__str__())"
   ]
  },
  {
   "cell_type": "markdown",
   "metadata": {},
   "source": [
    "# Next up\n",
    "\n",
    "1. More magic methods, and more adding/using them on our classes\n",
    "2. Attributes on classes\n",
    "3. Searching for attributes\n",
    "\n"
   ]
  },
  {
   "cell_type": "code",
   "execution_count": 27,
   "metadata": {},
   "outputs": [
    {
     "name": "stdout",
     "output_type": "stream",
     "text": [
      "['chocolate', 'vanilla', 'coffee']\n",
      "<__main__.Bowl object at 0x10dc79400>\n"
     ]
    }
   ],
   "source": [
    "class Scoop:\n",
    "    def __init__(self, flavor):\n",
    "        self.flavor = flavor\n",
    "    def __str__(self):\n",
    "        return f'Scoop of {self.flavor}'\n",
    "\n",
    "s1 = Scoop('chocolate')\n",
    "s2 = Scoop('vanilla')\n",
    "s3 = Scoop('coffee')\n",
    "\n",
    "class Bowl:\n",
    "    def __init__(self):  # this initializes our new bowl, by adding the \"scoops\" attribute -- where we'll put scoops in the bowl\n",
    "        self.scoops = []    # scoops is an attribute on the instance of Bowl -- a list of Scoop objects\n",
    "\n",
    "    def add_scoops(self, *args):   # any/all positional arguments will be on the \"args\" tuple\n",
    "        for one_scoop in args:\n",
    "            self.scoops.append(one_scoop)  # add the new scoop to the end of self.flavors (a list)\n",
    "\n",
    "    def flavors(self):\n",
    "        return [one_scoop.flavor\n",
    "                for one_scoop in self.scoops]\n",
    "\n",
    "b = Bowl()       # create a new instance of Bowl, with an empty \"scoops\" list\n",
    "b.add_scoops(s1, s2)\n",
    "b.add_scoops(s3)\n",
    "\n",
    "print(b.flavors())      # get a list of strings back\n",
    "\n",
    "print(b)    # what will happen when I do this?"
   ]
  },
  {
   "cell_type": "markdown",
   "metadata": {},
   "source": [
    "# Exercise: Make `Bowl` printable, too\n",
    "\n",
    "1. Modify `Bowl` such that it also handles being printed (i.e., by implementing `__str__` on it)\n",
    "2. But `Bowl.__str__` should return a string with all of the scoops, listed one by one.\n",
    "\n",
    "Example:\n",
    "\n",
    "    print(b)\n",
    "\n",
    "    Bowl of:\n",
    "    - Scoop of chocolate\n",
    "    - Scoop of vanilla\n",
    "    - Scoop of coffee\n",
    "\n",
    "    "
   ]
  },
  {
   "cell_type": "code",
   "execution_count": 31,
   "metadata": {},
   "outputs": [
    {
     "name": "stdout",
     "output_type": "stream",
     "text": [
      "['chocolate', 'vanilla', 'coffee']\n",
      "Bowl with:\n",
      "- Scoop of chocolate\n",
      "- Scoop of vanilla\n",
      "- Scoop of coffee\n",
      "\n"
     ]
    }
   ],
   "source": [
    "class Scoop:\n",
    "    def __init__(self, flavor):\n",
    "        self.flavor = flavor\n",
    "    def __str__(self):\n",
    "        return f'Scoop of {self.flavor}'\n",
    "\n",
    "s1 = Scoop('chocolate')\n",
    "s2 = Scoop('vanilla')\n",
    "s3 = Scoop('coffee')\n",
    "\n",
    "class Bowl:\n",
    "    def __init__(self):  # this initializes our new bowl, by adding the \"scoops\" attribute -- where we'll put scoops in the bowl\n",
    "        self.scoops = []    # scoops is an attribute on the instance of Bowl -- a list of Scoop objects\n",
    "\n",
    "    def add_scoops(self, *args):   # any/all positional arguments will be on the \"args\" tuple\n",
    "        for one_scoop in args:\n",
    "            self.scoops.append(one_scoop)  # add the new scoop to the end of self.flavors (a list)\n",
    "\n",
    "    def flavors(self):\n",
    "        return [one_scoop.flavor\n",
    "                for one_scoop in self.scoops]\n",
    "\n",
    "    def __str__(self):\n",
    "        output = 'Bowl with:\\n'\n",
    "        for one_scoop in self.scoops:\n",
    "            output += f'- {one_scoop}\\n'\n",
    "        return output\n",
    "\n",
    "b = Bowl()       # create a new instance of Bowl, with an empty \"scoops\" list\n",
    "b.add_scoops(s1, s2)\n",
    "b.add_scoops(s3)\n",
    "\n",
    "print(b.flavors())      # get a list of strings back\n",
    "\n",
    "print(b)    # what will happen when I do this?"
   ]
  },
  {
   "cell_type": "code",
   "execution_count": 32,
   "metadata": {},
   "outputs": [
    {
     "name": "stdout",
     "output_type": "stream",
     "text": [
      "[<__main__.Scoop object at 0x10dc79160>, <__main__.Scoop object at 0x10e228190>, <__main__.Scoop object at 0x10e228690>]\n"
     ]
    }
   ],
   "source": [
    "# what about this?\n",
    "\n",
    "my_scoops = [s1, s2, s3]\n",
    "\n",
    "print(my_scoops)  # here, Python printed the list but it displayed the repr for each individual Scoop!"
   ]
  },
  {
   "cell_type": "markdown",
   "metadata": {},
   "source": [
    "# `__str__` isn't the entire picture\n",
    "\n",
    "There are actually *two* methods that are invoked when we want to turn a value into a string:\n",
    "\n",
    "- `__str__`, which is used by `print` and `str`, and gives us a string suitable for end users\n",
    "- `__repr__`, which is used inside of Jupyter and debuggers, and gives us a string suitable for coders who are working on a Python program\n",
    "\n",
    "If you want, and according to the official Python standards, you should define these separately, so that each audience gets a different string.\n",
    "\n",
    "In reality, however, I almost always want them to be the same thing. If we define `__repr__` instead of `__str__`, it covers *all* of the cases.\n",
    "\n",
    "Generally speaking, I think it's better (even if a violation of the Python style guide) to define `__repr__` and not `__str__`. You can always define `__str__` later on if you want to differentiate between how coders and end users see things."
   ]
  },
  {
   "cell_type": "code",
   "execution_count": 33,
   "metadata": {},
   "outputs": [
    {
     "data": {
      "text/plain": [
       "5"
      ]
     },
     "execution_count": 33,
     "metadata": {},
     "output_type": "execute_result"
    }
   ],
   "source": [
    "# what about this?\n",
    "\n",
    "s = 'abcde'\n",
    "len(s)    # the len function knows how to work with strings, lists, tuples, dicts..."
   ]
  },
  {
   "cell_type": "code",
   "execution_count": 34,
   "metadata": {},
   "outputs": [
    {
     "ename": "TypeError",
     "evalue": "object of type 'Person' has no len()",
     "output_type": "error",
     "traceback": [
      "\u001b[0;31m---------------------------------------------------------------------------\u001b[0m",
      "\u001b[0;31mTypeError\u001b[0m                                 Traceback (most recent call last)",
      "Cell \u001b[0;32mIn[34], line 6\u001b[0m\n\u001b[1;32m      3\u001b[0m         \u001b[38;5;28mself\u001b[39m\u001b[38;5;241m.\u001b[39mname \u001b[38;5;241m=\u001b[39m name\n\u001b[1;32m      5\u001b[0m p \u001b[38;5;241m=\u001b[39m Person(\u001b[38;5;124m'\u001b[39m\u001b[38;5;124mReuven\u001b[39m\u001b[38;5;124m'\u001b[39m)\n\u001b[0;32m----> 6\u001b[0m \u001b[38;5;28;43mlen\u001b[39;49m\u001b[43m(\u001b[49m\u001b[43mp\u001b[49m\u001b[43m)\u001b[49m\n",
      "\u001b[0;31mTypeError\u001b[0m: object of type 'Person' has no len()"
     ]
    }
   ],
   "source": [
    "class Person:\n",
    "    def __init__(self, name):\n",
    "        self.name = name\n",
    "\n",
    "p = Person('Reuven')\n",
    "len(p)  # ... but it doesn't know how to work with a Person instance! Why not?"
   ]
  },
  {
   "cell_type": "markdown",
   "metadata": {},
   "source": [
    "We need to define the `__len__` method for the `len` function to work on our `Person` object.\n",
    "\n",
    "Any object that knows what to do with `len` has `__len__` defined.\n",
    "\n",
    "NOTE: Don't call `__len__`, or any other dunder method, directly! They are supposed to be called indirectly, by Python, not by us."
   ]
  },
  {
   "cell_type": "code",
   "execution_count": 35,
   "metadata": {},
   "outputs": [
    {
     "data": {
      "text/plain": [
       "6"
      ]
     },
     "execution_count": 35,
     "metadata": {},
     "output_type": "execute_result"
    }
   ],
   "source": [
    "# revised Person object\n",
    "\n",
    "class Person:\n",
    "    def __init__(self, name):\n",
    "        self.name = name\n",
    "    def __len__(self):\n",
    "        return len(self.name)\n",
    "\n",
    "p = Person('Reuven')\n",
    "len(p)  "
   ]
  },
  {
   "cell_type": "markdown",
   "metadata": {},
   "source": [
    "# Exercise: Get the length (i.e., size) of a `Bowl`\n",
    "\n",
    "Implement `__len__` on the `Bowl` class, so that invoking `len` on a `Bowl` instance tells you how many scoops it contains."
   ]
  },
  {
   "cell_type": "code",
   "execution_count": 37,
   "metadata": {},
   "outputs": [
    {
     "name": "stdout",
     "output_type": "stream",
     "text": [
      "0\n",
      "2\n",
      "3\n"
     ]
    }
   ],
   "source": [
    "class Scoop:\n",
    "    def __init__(self, flavor):\n",
    "        self.flavor = flavor\n",
    "    def __str__(self):\n",
    "        return f'Scoop of {self.flavor}'\n",
    "\n",
    "s1 = Scoop('chocolate')\n",
    "s2 = Scoop('vanilla')\n",
    "s3 = Scoop('coffee')\n",
    "\n",
    "class Bowl:\n",
    "    def __init__(self):  # this initializes our new bowl, by adding the \"scoops\" attribute -- where we'll put scoops in the bowl\n",
    "        self.scoops = []    # scoops is an attribute on the instance of Bowl -- a list of Scoop objects\n",
    "\n",
    "    def add_scoops(self, *args):   # any/all positional arguments will be on the \"args\" tuple\n",
    "        for one_scoop in args:\n",
    "            self.scoops.append(one_scoop)  # add the new scoop to the end of self.flavors (a list)\n",
    "\n",
    "    def flavors(self):\n",
    "        return [one_scoop.flavor\n",
    "                for one_scoop in self.scoops]\n",
    "\n",
    "    def __str__(self):\n",
    "        output = 'Bowl with:\\n'\n",
    "        for one_scoop in self.scoops:\n",
    "            output += f'- {one_scoop}\\n'\n",
    "        return output\n",
    "\n",
    "    def __len__(self):\n",
    "        return len(self.scoops)\n",
    "\n",
    "b = Bowl()       # create a new instance of Bowl, with an empty \"scoops\" list\n",
    "print(len(b))    # before I add any scoops, length should be 0\n",
    "b.add_scoops(s1, s2)\n",
    "print(len(b))    # after adding 2, length should be 2\n",
    "b.add_scoops(s3)\n",
    "print(len(b))    # after adding 1 more, length should be 3"
   ]
  },
  {
   "cell_type": "code",
   "execution_count": 42,
   "metadata": {},
   "outputs": [
    {
     "name": "stdout",
     "output_type": "stream",
     "text": [
      "3\n"
     ]
    }
   ],
   "source": [
    "# NO\n",
    "\n",
    "class Scoop:\n",
    "    def __init__(self, flavor):\n",
    "        self.flavor = flavor\n",
    "\n",
    "class Bowl:\n",
    "    def __init__(self):\n",
    "        self.scoops = []\n",
    "    def add_scoop(self, scoop):\n",
    "        self.scoops.append(scoop)\n",
    "    def flavors(self):\n",
    "        return [one_scoop.flavor for one_scoop in self.scoops]\n",
    "    def add_scoops(self, *args):\n",
    "        for a in args:\n",
    "            self.add_scoop(a)\n",
    "    def __len__(self):\n",
    "        return len(self.scoops)\n",
    "b = Bowl()\n",
    "ic1 = Scoop('vanilla')\n",
    "ic2 = Scoop('chocolate')\n",
    "ic3 = Scoop('mango')\n",
    "b.add_scoops(ic1, ic2, ic3)\n",
    "print(len(b))"
   ]
  },
  {
   "cell_type": "code",
   "execution_count": 44,
   "metadata": {},
   "outputs": [
    {
     "data": {
      "text/plain": [
       "[<__main__.Scoop at 0x10dc796a0>,\n",
       " <__main__.Scoop at 0x10e2287d0>,\n",
       " <__main__.Scoop at 0x10e228cd0>]"
      ]
     },
     "execution_count": 44,
     "metadata": {},
     "output_type": "execute_result"
    }
   ],
   "source": [
    "b.scoops"
   ]
  },
  {
   "cell_type": "code",
   "execution_count": 39,
   "metadata": {},
   "outputs": [
    {
     "ename": "TypeError",
     "evalue": "object of type 'Bowl' has no len()",
     "output_type": "error",
     "traceback": [
      "\u001b[0;31m---------------------------------------------------------------------------\u001b[0m",
      "\u001b[0;31mTypeError\u001b[0m                                 Traceback (most recent call last)",
      "Cell \u001b[0;32mIn[39], line 1\u001b[0m\n\u001b[0;32m----> 1\u001b[0m \u001b[38;5;28;43mlen\u001b[39;49m\u001b[43m(\u001b[49m\u001b[43mb\u001b[49m\u001b[43m)\u001b[49m\n",
      "\u001b[0;31mTypeError\u001b[0m: object of type 'Bowl' has no len()"
     ]
    }
   ],
   "source": [
    "len(b)"
   ]
  },
  {
   "cell_type": "markdown",
   "metadata": {},
   "source": [
    "# Scenario: We have a `Person` object\n",
    "\n",
    "Imagine that we have a `Person` object, which we have implemented. Our customers really like this object. But they have a request: They want us to keep track of how many `Person` objects we have created in our virtual world."
   ]
  },
  {
   "cell_type": "code",
   "execution_count": 45,
   "metadata": {},
   "outputs": [
    {
     "name": "stdout",
     "output_type": "stream",
     "text": [
      "Hello, name1\n",
      "Hello, name2\n"
     ]
    }
   ],
   "source": [
    "# create the class\n",
    "\n",
    "class Person:\n",
    "    def __init__(self, name):\n",
    "        self.name = name\n",
    "    def greet(self):\n",
    "        return f'Hello, {self.name}'\n",
    "\n",
    "p1 = Person('name1')\n",
    "p2 = Person('name2')\n",
    "\n",
    "print(p1.greet())\n",
    "print(p2.greet())"
   ]
  },
  {
   "cell_type": "code",
   "execution_count": 46,
   "metadata": {},
   "outputs": [
    {
     "name": "stdout",
     "output_type": "stream",
     "text": [
      "Before, population = 0\n"
     ]
    },
    {
     "ename": "UnboundLocalError",
     "evalue": "cannot access local variable 'population' where it is not associated with a value",
     "output_type": "error",
     "traceback": [
      "\u001b[0;31m---------------------------------------------------------------------------\u001b[0m",
      "\u001b[0;31mUnboundLocalError\u001b[0m                         Traceback (most recent call last)",
      "Cell \u001b[0;32mIn[46], line 18\u001b[0m\n\u001b[1;32m     15\u001b[0m         \u001b[38;5;28;01mreturn\u001b[39;00m \u001b[38;5;124mf\u001b[39m\u001b[38;5;124m'\u001b[39m\u001b[38;5;124mHello, \u001b[39m\u001b[38;5;132;01m{\u001b[39;00m\u001b[38;5;28mself\u001b[39m\u001b[38;5;241m.\u001b[39mname\u001b[38;5;132;01m}\u001b[39;00m\u001b[38;5;124m'\u001b[39m\n\u001b[1;32m     17\u001b[0m \u001b[38;5;28mprint\u001b[39m(\u001b[38;5;124mf\u001b[39m\u001b[38;5;124m'\u001b[39m\u001b[38;5;124mBefore, population = \u001b[39m\u001b[38;5;132;01m{\u001b[39;00mpopulation\u001b[38;5;132;01m}\u001b[39;00m\u001b[38;5;124m'\u001b[39m)\n\u001b[0;32m---> 18\u001b[0m p1 \u001b[38;5;241m=\u001b[39m \u001b[43mPerson\u001b[49m\u001b[43m(\u001b[49m\u001b[38;5;124;43m'\u001b[39;49m\u001b[38;5;124;43mname1\u001b[39;49m\u001b[38;5;124;43m'\u001b[39;49m\u001b[43m)\u001b[49m\n\u001b[1;32m     19\u001b[0m p2 \u001b[38;5;241m=\u001b[39m Person(\u001b[38;5;124m'\u001b[39m\u001b[38;5;124mname2\u001b[39m\u001b[38;5;124m'\u001b[39m)\n\u001b[1;32m     20\u001b[0m \u001b[38;5;28mprint\u001b[39m(\u001b[38;5;124mf\u001b[39m\u001b[38;5;124m'\u001b[39m\u001b[38;5;124mAfter, population = \u001b[39m\u001b[38;5;132;01m{\u001b[39;00mpopulation\u001b[38;5;132;01m}\u001b[39;00m\u001b[38;5;124m'\u001b[39m)\n",
      "Cell \u001b[0;32mIn[46], line 12\u001b[0m, in \u001b[0;36mPerson.__init__\u001b[0;34m(self, name)\u001b[0m\n\u001b[1;32m      8\u001b[0m \u001b[38;5;28mself\u001b[39m\u001b[38;5;241m.\u001b[39mname \u001b[38;5;241m=\u001b[39m name\n\u001b[1;32m     10\u001b[0m \u001b[38;5;66;03m# every time we create a new Person, we invoke __init__ \u001b[39;00m\n\u001b[1;32m     11\u001b[0m \u001b[38;5;66;03m# we can add 1 to population each time, and count the people\u001b[39;00m\n\u001b[0;32m---> 12\u001b[0m \u001b[43mpopulation\u001b[49m \u001b[38;5;241m+\u001b[39m\u001b[38;5;241m=\u001b[39m \u001b[38;5;241m1\u001b[39m\n",
      "\u001b[0;31mUnboundLocalError\u001b[0m: cannot access local variable 'population' where it is not associated with a value"
     ]
    }
   ],
   "source": [
    "# how can we keep track of the number of Person objects we've created?\n",
    "# option 1: a global variable, population\n",
    "\n",
    "population = 0   \n",
    "\n",
    "class Person:\n",
    "    def __init__(self, name):\n",
    "        self.name = name\n",
    "\n",
    "        # every time we create a new Person, we invoke __init__ \n",
    "        # we can add 1 to population each time, and count the people\n",
    "        population += 1    # population = population += 1\n",
    "\n",
    "    def greet(self):\n",
    "        return f'Hello, {self.name}'\n",
    "\n",
    "print(f'Before, population = {population}')\n",
    "p1 = Person('name1')\n",
    "p2 = Person('name2')\n",
    "print(f'After, population = {population}')\n",
    "\n",
    "print(p1.greet())\n",
    "print(p2.greet())"
   ]
  },
  {
   "cell_type": "code",
   "execution_count": 47,
   "metadata": {},
   "outputs": [
    {
     "name": "stdout",
     "output_type": "stream",
     "text": [
      "Before, population = 0\n",
      "After, population = 2\n",
      "Hello, name1\n",
      "Hello, name2\n"
     ]
    }
   ],
   "source": [
    "# option 2: declare population to be a global variable\n",
    "\n",
    "population = 0   \n",
    "\n",
    "class Person:\n",
    "    def __init__(self, name):\n",
    "        global population    # this tells Python: don't create a local variable; use the global \"population\" variable instead\n",
    "        self.name = name\n",
    "\n",
    "        # every time we create a new Person, we invoke __init__ \n",
    "        # we can add 1 to population each time, and count the people\n",
    "        population += 1  \n",
    "\n",
    "    def greet(self):\n",
    "        return f'Hello, {self.name}'\n",
    "\n",
    "print(f'Before, population = {population}')\n",
    "p1 = Person('name1')\n",
    "p2 = Person('name2')\n",
    "print(f'After, population = {population}')\n",
    "\n",
    "print(p1.greet())\n",
    "print(p2.greet())"
   ]
  },
  {
   "cell_type": "code",
   "execution_count": 48,
   "metadata": {},
   "outputs": [
    {
     "name": "stdout",
     "output_type": "stream",
     "text": [
      "Before, population = 0\n",
      "After, population = 2\n",
      "Hello, name1\n",
      "Hello, name2\n"
     ]
    }
   ],
   "source": [
    "# should I really be tracking population in a global variable?\n",
    "# isn't the whole point of objects that we want to keep everything inside of the class, and not scattered around?\n",
    "\n",
    "# everything in Python is an object\n",
    "# every object has attributes\n",
    "# we can assign a new attribute to any object, whenever we want, with assignment.\n",
    "\n",
    "# so... why not make population an attribute of the Person class?\n",
    "\n",
    "# option 3: Define population to be an attribute on Person\n",
    "\n",
    "class Person:\n",
    "    def __init__(self, name):\n",
    "        self.name = name\n",
    "\n",
    "        # every time we create a new Person, we invoke __init__ \n",
    "        # we can add 1 to Person.population each time, and count the people\n",
    "        # notice that we're adding to the attribute on the class\n",
    "        Person.population += 1  \n",
    "\n",
    "    def greet(self):\n",
    "        return f'Hello, {self.name}'\n",
    "\n",
    "# after defining the Person class, I add it\n",
    "Person.population = 0\n",
    "\n",
    "print(f'Before, population = {Person.population}')\n",
    "p1 = Person('name1')\n",
    "p2 = Person('name2')\n",
    "print(f'After, population = {Person.population}')\n",
    "\n",
    "print(p1.greet())\n",
    "print(p2.greet())"
   ]
  },
  {
   "cell_type": "markdown",
   "metadata": {},
   "source": [
    "# Consider class attributes\n",
    "\n",
    "Methods are attributes on a class. When we define `__init__` or `greet`, we are really defining `Person.__init__` and `Person.greet`. These are attributes!\n",
    "\n",
    "How can that be? When we use `def`, we normally know that we're defining a variable. How can it be that when we're in the context of a class, using `def` creates an attribute, not a variable?\n",
    "\n",
    "The answer is: Classes are basically modules but without a file. Just as we can `import` a module, and all of its functions/variables are avaialble to us as attributes, so to is anything defined inside of a `class` block made an attribute.\n",
    "\n",
    "If you define a variable inside of a `class` block, you're not really defining a variable:\n",
    "\n",
    "- If you use `def`, you're defining a method\n",
    "- If you assign, you're creating an attribute on the class -- a class attribute\n",
    "\n",
    "Moreover, methods are class attributes. They live on the class, not on the instance."
   ]
  },
  {
   "cell_type": "code",
   "execution_count": 49,
   "metadata": {},
   "outputs": [
    {
     "name": "stdout",
     "output_type": "stream",
     "text": [
      "Before, population = 0\n",
      "After, population = 2\n",
      "Hello, name1\n",
      "Hello, name2\n"
     ]
    }
   ],
   "source": [
    "# option 4: Define population to be an attribute on Person, using the standard syntax\n",
    "\n",
    "class Person:\n",
    "    population = 0   # this defines the class attribute Person.population \n",
    "    \n",
    "    def __init__(self, name):\n",
    "        self.name = name\n",
    "\n",
    "        # every time we create a new Person, we invoke __init__ \n",
    "        # we can add 1 to Person.population each time, and count the people\n",
    "        # notice that we're adding to the attribute on the class\n",
    "        Person.population += 1  \n",
    "\n",
    "    def greet(self):\n",
    "        return f'Hello, {self.name}'\n",
    "\n",
    "\n",
    "print(f'Before, population = {Person.population}')\n",
    "p1 = Person('name1')\n",
    "p2 = Person('name2')\n",
    "print(f'After, population = {Person.population}')\n",
    "\n",
    "print(p1.greet())\n",
    "print(p2.greet())"
   ]
  },
  {
   "cell_type": "markdown",
   "metadata": {},
   "source": [
    "# Next up\n",
    "\n",
    "- More about assigning to class attributes\n",
    "- How does Python find class attributes?\n",
    "- How does Python look for attributes in general?\n",
    "- How does this explain inheritance in Python?\n",
    "\n"
   ]
  },
  {
   "cell_type": "code",
   "execution_count": 50,
   "metadata": {},
   "outputs": [
    {
     "data": {
      "text/plain": [
       "35"
      ]
     },
     "execution_count": 50,
     "metadata": {},
     "output_type": "execute_result"
    }
   ],
   "source": [
    "import random\n",
    "\n",
    "random.randint(0, 100)  # here, I'm calling the \"randint\" function defined in the \"random\" module -- as an attribute on \"random\""
   ]
  },
  {
   "cell_type": "code",
   "execution_count": 52,
   "metadata": {},
   "outputs": [
    {
     "name": "stdout",
     "output_type": "stream",
     "text": [
      "Before, population = 0\n",
      "After, population = 2\n",
      "Hello, name1\n",
      "Hello, name2\n"
     ]
    }
   ],
   "source": [
    "\n",
    "class Person:\n",
    "    population = 0     # this looks like a variable -- but because it's inside of a class definition, it's a class attribute\n",
    "    \n",
    "    # this looks like a function definition, and that would normally mean we're defining a variable\n",
    "    # but because it's inside of a class definition, it's actually an attribute, Person.__init__\n",
    "    def __init__(self, name):\n",
    "        self.name = name\n",
    "\n",
    "        # every time we create a new Person, we invoke __init__ \n",
    "        # we can add 1 to Person.population each time, and count the people\n",
    "        # notice that we're adding to the attribute on the class\n",
    "        Person.population += 1  \n",
    "\n",
    "    # this looks like a function definition also, but it's really an attribute definition\n",
    "    # here, we're defining Person.greet\n",
    "    def greet(self):\n",
    "        return f'Hello, {self.name}'\n",
    "\n",
    "\n",
    "print(f'Before, population = {Person.population}')\n",
    "p1 = Person('name1')\n",
    "p2 = Person('name2')\n",
    "print(f'After, population = {Person.population}')\n",
    "\n",
    "print(p1.greet())   # this is rewritten to be Person.greet(p1)\n",
    "print(p2.greet())   # this is rewritten to be Person.greet(p2)"
   ]
  },
  {
   "cell_type": "code",
   "execution_count": 53,
   "metadata": {},
   "outputs": [
    {
     "data": {
      "text/plain": [
       "2"
      ]
     },
     "execution_count": 53,
     "metadata": {},
     "output_type": "execute_result"
    }
   ],
   "source": [
    "Person.population"
   ]
  },
  {
   "cell_type": "markdown",
   "metadata": {},
   "source": [
    "# Attribute lookup\n",
    "\n",
    "If we ask an object for an attribute, and the attribute exists on that object, we get the value back. If I ask for `p1.name`, and `p1` has an attribute `name`, then we get the value.\n",
    "\n",
    "What if I ask for `p1.greet`? What happens then?\n",
    "\n",
    "- Python asks the instance: Do you have an attribute named `greet`? The answer: No.\n",
    "- Python doesn't give up. It turns to `p1`'s class, `Person`, and asks: Do you have an attribute named `greet`? The answer: Yes, and it is returned and then invoked.\n",
    "\n",
    "This happens every single time we invoke a method in Python. (If we invoked it on the instance.)\n",
    "\n",
    "This raises the question, then: What if I ask for `p1.population` or `p2.population`? Will it return the right value? Will it work at all? Will it give me an error?"
   ]
  },
  {
   "cell_type": "code",
   "execution_count": 54,
   "metadata": {},
   "outputs": [
    {
     "name": "stdout",
     "output_type": "stream",
     "text": [
      "Before, population = 0\n",
      "After, population = 2\n",
      "After, p1.population = 2\n",
      "After, p2.population = 2\n",
      "Hello, name1\n",
      "Hello, name2\n"
     ]
    }
   ],
   "source": [
    "class Person:\n",
    "    population = 0     # this looks like a variable -- but because it's inside of a class definition, it's a class attribute\n",
    "    \n",
    "    # this looks like a function definition, and that would normally mean we're defining a variable\n",
    "    # but because it's inside of a class definition, it's actually an attribute, Person.__init__\n",
    "    def __init__(self, name):\n",
    "        self.name = name\n",
    "\n",
    "        # every time we create a new Person, we invoke __init__ \n",
    "        # we can add 1 to Person.population each time, and count the people\n",
    "        # notice that we're adding to the attribute on the class\n",
    "        Person.population += 1  \n",
    "\n",
    "    # this looks like a function definition also, but it's really an attribute definition\n",
    "    # here, we're defining Person.greet\n",
    "    def greet(self):\n",
    "        return f'Hello, {self.name}'\n",
    "\n",
    "\n",
    "print(f'Before, population = {Person.population}')\n",
    "p1 = Person('name1')   # p1 is an instance of Person -- so we'll look for attributes in p1 (the instance) then Person (the class)\n",
    "p2 = Person('name2')   # p2 is an instance of Person -- so we'll look for attributes in p2 (the instance) then Person (the class)\n",
    "print(f'After, population = {Person.population}')\n",
    "print(f'After, p1.population = {p1.population}')  # does p1 have population? No -- so we go onto Person, and ask, where we get 2\n",
    "print(f'After, p2.population = {p2.population}')  # does p2 have population? No -- so we go onto Person, and ask, where we get 2\n",
    "\n",
    "print(p1.greet())   # this is rewritten to be Person.greet(p1)\n",
    "print(p2.greet())   # this is rewritten to be Person.greet(p2)"
   ]
  },
  {
   "cell_type": "code",
   "execution_count": 55,
   "metadata": {},
   "outputs": [
    {
     "data": {
      "text/plain": [
       "'Hello, name1'"
      ]
     },
     "execution_count": 55,
     "metadata": {},
     "output_type": "execute_result"
    }
   ],
   "source": [
    "Person.greet(p1)"
   ]
  },
  {
   "cell_type": "markdown",
   "metadata": {},
   "source": [
    "# The story so far\n",
    "\n",
    "Everything in Python is an object. And every object has attributes. These attributes aren't shared among objects.\n",
    "\n",
    "If I ask an object `x` for its attribute `y`, then one of three things can happen (so far):\n",
    "\n",
    "- `x` has an attribute `y`, and we get that value back.\n",
    "- `x` does not have an attribute `y`, so Python checks on `x`'s class and asks for `y`. We get that value back.\n",
    "- `x` doesn't have an attribute `y`, and neither does its class, so we get an error message.\n",
    "\n",
    "This is true for data attributes, and it is also true for methods."
   ]
  },
  {
   "cell_type": "code",
   "execution_count": 56,
   "metadata": {},
   "outputs": [
    {
     "data": {
      "text/plain": [
       "2"
      ]
     },
     "execution_count": 56,
     "metadata": {},
     "output_type": "execute_result"
    }
   ],
   "source": [
    "Person.population"
   ]
  },
  {
   "cell_type": "code",
   "execution_count": 57,
   "metadata": {},
   "outputs": [
    {
     "data": {
      "text/plain": [
       "2"
      ]
     },
     "execution_count": 57,
     "metadata": {},
     "output_type": "execute_result"
    }
   ],
   "source": [
    "p1.population    # doesn't exist on p1, so we get Person's value"
   ]
  },
  {
   "cell_type": "code",
   "execution_count": 58,
   "metadata": {},
   "outputs": [
    {
     "data": {
      "text/plain": [
       "2"
      ]
     },
     "execution_count": 58,
     "metadata": {},
     "output_type": "execute_result"
    }
   ],
   "source": [
    "p2.population    # doesn't exist on p2, so we get Person's value"
   ]
  },
  {
   "cell_type": "code",
   "execution_count": 59,
   "metadata": {},
   "outputs": [],
   "source": [
    "p1.population = 98765"
   ]
  },
  {
   "cell_type": "code",
   "execution_count": 61,
   "metadata": {},
   "outputs": [
    {
     "data": {
      "text/plain": [
       "2"
      ]
     },
     "execution_count": 61,
     "metadata": {},
     "output_type": "execute_result"
    }
   ],
   "source": [
    "Person.population   # this was unaffected!"
   ]
  },
  {
   "cell_type": "code",
   "execution_count": 62,
   "metadata": {},
   "outputs": [
    {
     "data": {
      "text/plain": [
       "98765"
      ]
     },
     "execution_count": 62,
     "metadata": {},
     "output_type": "execute_result"
    }
   ],
   "source": [
    "p1.population  # we check for population on p1, find it, and get it back"
   ]
  },
  {
   "cell_type": "code",
   "execution_count": 63,
   "metadata": {},
   "outputs": [
    {
     "data": {
      "text/plain": [
       "2"
      ]
     },
     "execution_count": 63,
     "metadata": {},
     "output_type": "execute_result"
    }
   ],
   "source": [
    "p2.population  # we check for population on p2, don't find it, and thus go onto Person, and get it from there"
   ]
  },
  {
   "cell_type": "code",
   "execution_count": 64,
   "metadata": {},
   "outputs": [
    {
     "data": {
      "text/plain": [
       "'name1'"
      ]
     },
     "execution_count": 64,
     "metadata": {},
     "output_type": "execute_result"
    }
   ],
   "source": [
    "p1.name    # does p1 have an attribute name? Yes, so we get it back"
   ]
  },
  {
   "cell_type": "code",
   "execution_count": 65,
   "metadata": {},
   "outputs": [
    {
     "data": {
      "text/plain": [
       "'name2'"
      ]
     },
     "execution_count": 65,
     "metadata": {},
     "output_type": "execute_result"
    }
   ],
   "source": [
    "p2.name   # does p2 have an attribute name? Yes, so we get it back"
   ]
  },
  {
   "cell_type": "code",
   "execution_count": 66,
   "metadata": {},
   "outputs": [
    {
     "ename": "AttributeError",
     "evalue": "type object 'Person' has no attribute 'name'",
     "output_type": "error",
     "traceback": [
      "\u001b[0;31m---------------------------------------------------------------------------\u001b[0m",
      "\u001b[0;31mAttributeError\u001b[0m                            Traceback (most recent call last)",
      "Cell \u001b[0;32mIn[66], line 1\u001b[0m\n\u001b[0;32m----> 1\u001b[0m \u001b[43mPerson\u001b[49m\u001b[38;5;241;43m.\u001b[39;49m\u001b[43mname\u001b[49m   \u001b[38;5;66;03m# does Person have an attribute name? No, so we get an attribute error\u001b[39;00m\n",
      "\u001b[0;31mAttributeError\u001b[0m: type object 'Person' has no attribute 'name'"
     ]
    }
   ],
   "source": [
    "Person.name   # does Person have an attribute name? No, so we get an attribute error"
   ]
  },
  {
   "cell_type": "code",
   "execution_count": 67,
   "metadata": {},
   "outputs": [
    {
     "name": "stdout",
     "output_type": "stream",
     "text": [
      "Before, population = 0\n",
      "After, population = 0\n",
      "After, p1.population = 1\n",
      "After, p2.population = 1\n",
      "Hello, name1\n",
      "Hello, name2\n"
     ]
    }
   ],
   "source": [
    "# don't be tempted into doing this:\n",
    "\n",
    "\n",
    "\n",
    "class Person:\n",
    "    population = 0     # this looks like a variable -- but because it's inside of a class definition, it's a class attribute\n",
    "    \n",
    "    # this looks like a function definition, and that would normally mean we're defining a variable\n",
    "    # but because it's inside of a class definition, it's actually an attribute, Person.__init__\n",
    "    def __init__(self, name):\n",
    "        self.name = name\n",
    "\n",
    "        # *******\n",
    "        # THIS IS DISASTROUS!!!!\n",
    "        # *******\n",
    "        self.population += 1    # this means: self.population = self.population += 1\n",
    "\n",
    "    # this looks like a function definition also, but it's really an attribute definition\n",
    "    # here, we're defining Person.greet\n",
    "    def greet(self):\n",
    "        return f'Hello, {self.name}'\n",
    "\n",
    "\n",
    "print(f'Before, population = {Person.population}')\n",
    "p1 = Person('name1')   # p1 is an instance of Person -- so we'll look for attributes in p1 (the instance) then Person (the class)\n",
    "p2 = Person('name2')   # p2 is an instance of Person -- so we'll look for attributes in p2 (the instance) then Person (the class)\n",
    "print(f'After, population = {Person.population}')\n",
    "print(f'After, p1.population = {p1.population}')  # does p1 have population? No -- so we go onto Person, and ask, where we get 2\n",
    "print(f'After, p2.population = {p2.population}')  # does p2 have population? No -- so we go onto Person, and ask, where we get 2\n",
    "\n",
    "print(p1.greet())   # this is rewritten to be Person.greet(p1)\n",
    "print(p2.greet())   # this is rewritten to be Person.greet(p2)"
   ]
  },
  {
   "cell_type": "markdown",
   "metadata": {},
   "source": [
    "# What are we supposed to do?\n",
    "\n",
    "- It's totally OK to retrieve a class attribute via either the instance or the class. We do this all the time with methods.\n",
    "- Assigning to a class attribute **MUST** be done via the class.  If you assign to an attribute on `self`, then you have no influence whatsoever on the class attribute, and you might well mess up your program."
   ]
  },
  {
   "cell_type": "code",
   "execution_count": 68,
   "metadata": {},
   "outputs": [
    {
     "name": "stdout",
     "output_type": "stream",
     "text": [
      "Before, population = 0\n",
      "After, population = 2\n",
      "After, p1.population = 2\n",
      "After, p2.population = 2\n",
      "Hello, name1\n",
      "Hello, name2\n"
     ]
    }
   ],
   "source": [
    "class Person:\n",
    "    population = 0     # this looks like a variable -- but because it's inside of a class definition, it's a class attribute\n",
    "    \n",
    "    # this looks like a function definition, and that would normally mean we're defining a variable\n",
    "    # but because it's inside of a class definition, it's actually an attribute, Person.__init__\n",
    "    def __init__(self, name):\n",
    "        self.name = name\n",
    "\n",
    "        # every time we create a new Person, we invoke __init__ \n",
    "        # we can add 1 to Person.population each time, and count the people\n",
    "        # notice that we're adding to the attribute on the class\n",
    "        Person.population += 1  \n",
    "\n",
    "    # this looks like a function definition also, but it's really an attribute definition\n",
    "    # here, we're defining Person.greet\n",
    "    def greet(self):\n",
    "        return f'Hello, {self.name}'\n",
    "\n",
    "\n",
    "print(f'Before, population = {Person.population}')\n",
    "p1 = Person('name1')   \n",
    "p2 = Person('name2')   \n",
    "print(f'After, population = {Person.population}')\n",
    "print(f'After, p1.population = {p1.population}')\n",
    "print(f'After, p2.population = {p2.population}')\n",
    "\n",
    "print(p1.greet())   # this is rewritten to be Person.greet(p1)\n",
    "print(p2.greet())   # this is rewritten to be Person.greet(p2)"
   ]
  },
  {
   "cell_type": "code",
   "execution_count": 69,
   "metadata": {},
   "outputs": [
    {
     "data": {
      "text/plain": [
       "5"
      ]
     },
     "execution_count": 69,
     "metadata": {},
     "output_type": "execute_result"
    }
   ],
   "source": [
    "p3 = Person('name3')\n",
    "p4 = Person('name4')\n",
    "p5 = Person('name5')\n",
    "\n",
    "p1.population "
   ]
  },
  {
   "cell_type": "markdown",
   "metadata": {},
   "source": [
    "# Where does an attribute's value come from?\n",
    "\n",
    "- `self.attrname`\n",
    "    - We first look on the instance, `self`\n",
    "    - If it's not there, then we look at the class\n",
    "- `Person.attrname`\n",
    "    - We first look on the class, `Person`\n",
    "    - If it's not there... we'll discuss this soon (inheritance)"
   ]
  },
  {
   "cell_type": "markdown",
   "metadata": {},
   "source": [
    "# Who needs class attributes, anyway?\n",
    "\n",
    "Methods are all class attributes, and we can agree that we need those.\n",
    "\n",
    "But when would I define a class attribute that contains data? Who needs that?\n",
    "\n",
    "There are a few reasons/places to have it\n",
    "\n",
    "1. Convenient storage location for a common value we need -- almost like a constant value\n",
    "2. Convenient storage location for a commonly used/shared resources. The attribute isn't shared, but we can treat it as if it is\n",
    "\n",
    "Don't think of class attributes as defaults for your instance attributes. This is a bad (but very common) idea."
   ]
  },
  {
   "cell_type": "markdown",
   "metadata": {},
   "source": [
    "# Exercise: Limit `Bowl` size\n",
    "\n",
    "1. Modify the `Bowl` class, such that the maximum number of scoops we can have in a given bowl is 3.\n",
    "2. This means that if someone invokes `add_scoops`, only the first three scoops they add are actually added. The rest are silently ignored -- doesn't matter how many times we call `add_scoops` or how many arguments we give it.\n",
    "3. No error messages; just assume the ice cream disappeared.\n",
    "4. Instead of hard-coding that number in the code, make a class attribute, `MAX_SCOOPS`, and set it to 3, and use it in your class."
   ]
  },
  {
   "cell_type": "code",
   "execution_count": 75,
   "metadata": {},
   "outputs": [
    {
     "name": "stdout",
     "output_type": "stream",
     "text": [
      "Bowl with:\n",
      "- Scoop of chocolate\n",
      "- Scoop of vanilla\n",
      "- Scoop of coffee\n",
      "\n"
     ]
    }
   ],
   "source": [
    "class Scoop:\n",
    "    def __init__(self, flavor):\n",
    "        self.flavor = flavor\n",
    "    def __str__(self):\n",
    "        return f'Scoop of {self.flavor}'\n",
    "\n",
    "s1 = Scoop('chocolate')\n",
    "s2 = Scoop('vanilla')\n",
    "s3 = Scoop('coffee')\n",
    "s4 = Scoop('flavor 4')\n",
    "s5 = Scoop('flavor 5')\n",
    "\n",
    "class Bowl:\n",
    "    MAX_SCOOPS = 3   # this is a class attribute, Bowl.MAX_SCOOPS\n",
    "    \n",
    "    def __init__(self):  \n",
    "        self.scoops = [] \n",
    "\n",
    "    def add_scoops(self, *args): \n",
    "        for one_scoop in args:\n",
    "            if len(self.scoops) >= self.MAX_SCOOPS:\n",
    "                break\n",
    "            self.scoops.append(one_scoop) \n",
    "\n",
    "    def flavors(self):\n",
    "        return [one_scoop.flavor\n",
    "                for one_scoop in self.scoops]\n",
    "\n",
    "    def __str__(self):\n",
    "        output = 'Bowl with:\\n'\n",
    "        for one_scoop in self.scoops:\n",
    "            output += f'- {one_scoop}\\n'\n",
    "        return output\n",
    "\n",
    "    def __len__(self):\n",
    "        return len(self.scoops)\n",
    "\n",
    "b = Bowl()       # create a new instance of Bowl, with an empty \"scoops\" list\n",
    "b.add_scoops(s1, s2)\n",
    "b.add_scoops(s3)\n",
    "b.add_scoops(s4, s5)\n",
    "print(b)"
   ]
  },
  {
   "cell_type": "code",
   "execution_count": 76,
   "metadata": {},
   "outputs": [
    {
     "name": "stdout",
     "output_type": "stream",
     "text": [
      "vanilla\n",
      "chocolate\n",
      "mango\n"
     ]
    }
   ],
   "source": [
    "# NO\n",
    "\n",
    "class Scoop:\n",
    "    def __init__(self, flavor):\n",
    "        self.flavor = flavor\n",
    "class Bowl:\n",
    "    MAX_SCOOPS = 3\n",
    "    def __init__(self):\n",
    "        self.scoops = []\n",
    "\n",
    "    def flavors(self):\n",
    "        return [one_scoop.flavor for one_scoop in self.scoops]\n",
    "    \n",
    "    def add_scoops(self, *args):\n",
    "        for a in args:\n",
    "            if len(self.scoops) < Bowl.MAX_SCOOPS:\n",
    "                self.scoops.append(a)\n",
    "b = Bowl()\n",
    "ic1 = Scoop('vanilla')\n",
    "ic2 = Scoop('chocolate')\n",
    "ic3 = Scoop('mango')\n",
    "ic4 = Scoop('mint')\n",
    "b.add_scoops(ic1, ic2, ic3, ic4)\n",
    "ss = b.flavors()\n",
    "for s in ss:\n",
    "    print (s)"
   ]
  },
  {
   "cell_type": "markdown",
   "metadata": {},
   "source": [
    "# Next up\n",
    "\n",
    "Inheritance!\n",
    "- What is it?\n",
    "- How does it work? (Hint: Attributes)\n",
    "- How does it connect with our magic methods from before? (Hint: A lot!)"
   ]
  },
  {
   "cell_type": "markdown",
   "metadata": {},
   "source": [
    "# So far\n",
    "\n",
    "- Everything in Python is an object\n",
    "- Every object has attributes\n",
    "- If we ask an object for an attribute, and it doesn't have that attribute, then we ask its class"
   ]
  },
  {
   "cell_type": "markdown",
   "metadata": {},
   "source": [
    "# Scenario\n",
    "\n",
    "We have our `Person` class defined, and our customers are thrilled with it! They're so happy that they want us to implement a second class, `Employee`, for them. \n",
    "\n",
    "`Employee` should work just like `Person`, except that it should have some additional capabilities: Every instance of `Employee` should also have an attribute for their `id_number`."
   ]
  },
  {
   "cell_type": "code",
   "execution_count": 78,
   "metadata": {},
   "outputs": [
    {
     "name": "stdout",
     "output_type": "stream",
     "text": [
      "Hello, name1\n",
      "Hello, name2\n",
      "Hello, emp1\n",
      "Hello, emp2\n"
     ]
    }
   ],
   "source": [
    "class Person:\n",
    "    def __init__(self, name):\n",
    "        self.name = name\n",
    "\n",
    "    def greet(self):\n",
    "        return f'Hello, {self.name}'\n",
    "\n",
    "p1 = Person('name1')\n",
    "p2 = Person('name2')\n",
    "\n",
    "print(p1.greet())\n",
    "print(p2.greet())\n",
    "\n",
    "# let's implement the Employee class\n",
    "\n",
    "class Employee:\n",
    "    def __init__(self, name, id_number):\n",
    "        self.name = name\n",
    "        self.id_number = id_number\n",
    "\n",
    "    def greet(self):\n",
    "        return f'Hello, {self.name}'\n",
    "\n",
    "e1 = Employee('emp1', 1)\n",
    "e2 = Employee('emp2', 2)\n",
    "\n",
    "print(e1.greet())\n",
    "print(e2.greet())"
   ]
  },
  {
   "cell_type": "markdown",
   "metadata": {},
   "source": [
    "My boss looks at this code and says: Why didn't you use inheritance?\n",
    "\n",
    "Implement this with inheritance."
   ]
  },
  {
   "cell_type": "markdown",
   "metadata": {},
   "source": [
    "# What is inheritance?\n",
    "\n",
    "Inheritance is the idea that if you define a new class, and it's very similar to an existing class, the new class can simply \"inherit\" from the existing one, implementing only things that are different.\n",
    "\n",
    "Often, this means a more specific class inherits from a more generic one (e.g., `Car` inherits from `Vehicle`).\n",
    "\n",
    "You can also have a purposely generic parent class from which many new child classes can inherit.\n",
    "\n",
    "Inheritance means, though, that the child class is a version of the parent class. It does *not* mean that one of the classes contains or owns the other. That (which we've using so far) is known as \"composition.\"\n",
    "\n",
    "- Composition means: An object owns another object. A `Scoop` has a flavor (string). A `Bowl` has a set of scoops (list of `Scoop` objects).\n",
    "- Inheritance means: The child class *is* the parent class: A `Car` is a vehicle. A `Book` is a piece media.\n",
    "\n",
    "# Getting back to `Person` and `Employee`\n",
    "\n",
    "We can definitely say that an employee is a person. Thus, it makes sense for the `Employee` class to inherit from the `Person` class.\n",
    "\n",
    "We do this by putting the parent class in `()` after the child class's name, when we define it."
   ]
  },
  {
   "cell_type": "code",
   "execution_count": 79,
   "metadata": {},
   "outputs": [
    {
     "name": "stdout",
     "output_type": "stream",
     "text": [
      "Hello, name1\n",
      "Hello, name2\n",
      "Hello, emp1\n",
      "Hello, emp2\n"
     ]
    }
   ],
   "source": [
    "class Person:\n",
    "    def __init__(self, name):\n",
    "        self.name = name\n",
    "\n",
    "    def greet(self):\n",
    "        return f'Hello, {self.name}'\n",
    "\n",
    "p1 = Person('name1')\n",
    "p2 = Person('name2')\n",
    "\n",
    "print(p1.greet())\n",
    "print(p2.greet())\n",
    "\n",
    "\n",
    "# now Employee inherits from Person\n",
    "\n",
    "class Employee(Person):\n",
    "    def __init__(self, name, id_number):\n",
    "        self.name = name\n",
    "        self.id_number = id_number\n",
    "\n",
    "    def greet(self):\n",
    "        return f'Hello, {self.name}'\n",
    "\n",
    "e1 = Employee('emp1', 1)\n",
    "e2 = Employee('emp2', 2)\n",
    "\n",
    "print(e1.greet())\n",
    "print(e2.greet())"
   ]
  },
  {
   "cell_type": "markdown",
   "metadata": {},
   "source": [
    "# What did this do?\n",
    "\n",
    "In Python, saying that a class inherits from another changes the attribute lookup!\n",
    "\n",
    "Before, we were saying:\n",
    "\n",
    "- If an attribute is on an object, we get its value back\n",
    "- If not, then we check on its class\n",
    "\n",
    "Now we'll extend this model:\n",
    "\n",
    "- If an attribute is on an object, we get its value back\n",
    "- If not, then we check on its class\n",
    "- If it isn't there, we check on then parent class\n",
    "\n",
    "In our example here, we would need to remove (for example) `greet` to know that inheritance was working"
   ]
  },
  {
   "cell_type": "code",
   "execution_count": 80,
   "metadata": {},
   "outputs": [
    {
     "name": "stdout",
     "output_type": "stream",
     "text": [
      "Hello, name1\n",
      "Hello, name2\n",
      "Hello, emp1\n",
      "Hello, emp2\n"
     ]
    }
   ],
   "source": [
    "class Person:\n",
    "    def __init__(self, name):\n",
    "        self.name = name\n",
    "\n",
    "    def greet(self):\n",
    "        return f'Hello, {self.name}'\n",
    "\n",
    "p1 = Person('name1')\n",
    "p2 = Person('name2')\n",
    "\n",
    "print(p1.greet())\n",
    "print(p2.greet())\n",
    "\n",
    "# now Employee inherits from Person\n",
    "\n",
    "class Employee(Person):\n",
    "    def __init__(self, name, id_number):\n",
    "        self.name = name\n",
    "        self.id_number = id_number\n",
    "\n",
    "e1 = Employee('emp1', 1)\n",
    "e2 = Employee('emp2', 2)\n",
    "\n",
    "print(e1.greet())  # does e1 have greet? No. Does Employee have greet? No. Does Person have greet? YES, it is invoked\n",
    "print(e2.greet())"
   ]
  },
  {
   "cell_type": "code",
   "execution_count": 81,
   "metadata": {},
   "outputs": [
    {
     "name": "stdout",
     "output_type": "stream",
     "text": [
      "Hello, name1\n",
      "Hello, name2\n"
     ]
    },
    {
     "ename": "AttributeError",
     "evalue": "'Employee' object has no attribute 'name'",
     "output_type": "error",
     "traceback": [
      "\u001b[0;31m---------------------------------------------------------------------------\u001b[0m",
      "\u001b[0;31mAttributeError\u001b[0m                            Traceback (most recent call last)",
      "Cell \u001b[0;32mIn[81], line 26\u001b[0m\n\u001b[1;32m     23\u001b[0m e1 \u001b[38;5;241m=\u001b[39m Employee(\u001b[38;5;124m'\u001b[39m\u001b[38;5;124memp1\u001b[39m\u001b[38;5;124m'\u001b[39m, \u001b[38;5;241m1\u001b[39m)\n\u001b[1;32m     24\u001b[0m e2 \u001b[38;5;241m=\u001b[39m Employee(\u001b[38;5;124m'\u001b[39m\u001b[38;5;124memp2\u001b[39m\u001b[38;5;124m'\u001b[39m, \u001b[38;5;241m2\u001b[39m)\n\u001b[0;32m---> 26\u001b[0m \u001b[38;5;28mprint\u001b[39m(\u001b[43me1\u001b[49m\u001b[38;5;241;43m.\u001b[39;49m\u001b[43mgreet\u001b[49m\u001b[43m(\u001b[49m\u001b[43m)\u001b[49m)  \u001b[38;5;66;03m# does e1 have greet? No. Does Employee have greet? No. Does Person have greet? YES, it is invoked\u001b[39;00m\n\u001b[1;32m     27\u001b[0m \u001b[38;5;28mprint\u001b[39m(e2\u001b[38;5;241m.\u001b[39mgreet())\n",
      "Cell \u001b[0;32mIn[81], line 8\u001b[0m, in \u001b[0;36mPerson.greet\u001b[0;34m(self)\u001b[0m\n\u001b[1;32m      7\u001b[0m \u001b[38;5;28;01mdef\u001b[39;00m\u001b[38;5;250m \u001b[39m\u001b[38;5;21mgreet\u001b[39m(\u001b[38;5;28mself\u001b[39m):\n\u001b[0;32m----> 8\u001b[0m     \u001b[38;5;28;01mreturn\u001b[39;00m \u001b[38;5;124mf\u001b[39m\u001b[38;5;124m'\u001b[39m\u001b[38;5;124mHello, \u001b[39m\u001b[38;5;132;01m{\u001b[39;00m\u001b[38;5;28;43mself\u001b[39;49m\u001b[38;5;241;43m.\u001b[39;49m\u001b[43mname\u001b[49m\u001b[38;5;132;01m}\u001b[39;00m\u001b[38;5;124m'\u001b[39m\n",
      "\u001b[0;31mAttributeError\u001b[0m: 'Employee' object has no attribute 'name'"
     ]
    }
   ],
   "source": [
    "# if Employee inherits from Person, then why do we set self.name in both lines 5 and 20?\n",
    "\n",
    "class Person:\n",
    "    def __init__(self, name):\n",
    "        self.name = name\n",
    "\n",
    "    def greet(self):\n",
    "        return f'Hello, {self.name}'\n",
    "\n",
    "p1 = Person('name1')\n",
    "p2 = Person('name2')\n",
    "\n",
    "print(p1.greet())\n",
    "print(p2.greet())\n",
    "\n",
    "# now Employee inherits from Person\n",
    "\n",
    "class Employee(Person):\n",
    "    def __init__(self, name, id_number):\n",
    "        # self.name = name\n",
    "        self.id_number = id_number\n",
    "\n",
    "e1 = Employee('emp1', 1)\n",
    "e2 = Employee('emp2', 2)\n",
    "\n",
    "print(e1.greet())  # does e1 have greet? No. Does Employee have greet? No. Does Person have greet? YES, it is invoked\n",
    "print(e2.greet())"
   ]
  },
  {
   "cell_type": "markdown",
   "metadata": {},
   "source": [
    "# What happened?\n",
    "\n",
    "It's common to think that if a child class's `__init__` sets an attribute, and the parent class's `__init__` sets the same attribute, we can remove the setting in the child class, the parent's `__init__` will be run anyway.\n",
    "\n",
    "This is *not* true, unless we explicitly say in the child class: Yes, I want to invoke my parent class's `__init__`.\n",
    "\n",
    "We can do that by explicitly calling the method, or we can invoke `super()`, which makes this easier."
   ]
  },
  {
   "cell_type": "code",
   "execution_count": 83,
   "metadata": {},
   "outputs": [
    {
     "name": "stdout",
     "output_type": "stream",
     "text": [
      "Hello, name1\n",
      "Hello, name2\n",
      "Hello, emp1\n",
      "Hello, emp2\n"
     ]
    }
   ],
   "source": [
    "# if Employee inherits from Person, then why do we set self.name in both lines 5 and 20?\n",
    "\n",
    "class Person:\n",
    "    def __init__(self, name):\n",
    "        self.name = name\n",
    "\n",
    "    def greet(self):\n",
    "        return f'Hello, {self.name}'\n",
    "\n",
    "p1 = Person('name1')\n",
    "p2 = Person('name2')\n",
    "\n",
    "print(p1.greet())\n",
    "print(p2.greet())\n",
    "\n",
    "# now Employee inherits from Person\n",
    "\n",
    "class Employee(Person):\n",
    "    def __init__(self, name, id_number):\n",
    "        super().__init__(name)   # here, we call __init__ on Person, our parent class\n",
    "        self.id_number = id_number\n",
    "\n",
    "e1 = Employee('emp1', 1)\n",
    "e2 = Employee('emp2', 2)\n",
    "\n",
    "print(e1.greet())  \n",
    "print(e2.greet())"
   ]
  },
  {
   "cell_type": "markdown",
   "metadata": {},
   "source": [
    "# Three ways to use inheritance\n",
    "\n",
    "1. The child class doesn't implement a method, so the parent's method is run instead.  We see that here with `greet` in `Employee` and `Person`.\n",
    "2. The child class implements a method that isn't in the parent. We can invoke it on the child, but not on the parent. (No example here)\n",
    "3. The child class implements a method with the same name as the parent. Using `super`, we invoke the method of the same name on the parent. This way, we get the parent's functionality and our own (child) functionality."
   ]
  },
  {
   "cell_type": "markdown",
   "metadata": {},
   "source": [
    "# Complete the picture\n",
    "\n",
    "If I ask for an attribute (data or method) from an object:\n",
    "\n",
    "- `I` -- If the *instance* has the attribute, we get it back\n",
    "- `C` -- If not, we check on the instance's *class*\n",
    "- `P` -- If the class doesn't have it, we check on the class's *parent* (we can repeat this step several times, if the hierarchy is deep)\n",
    "- `O` -- If the parent doesn't have it, we check on *`object`*, the ultimate parent in the Python hierarchy.\n",
    "\n",
    "Every object in Python knows how to turn itself into a string. How? Because `object` implements a primitive version of `__str__`."
   ]
  },
  {
   "cell_type": "code",
   "execution_count": null,
   "metadata": {},
   "outputs": [],
   "source": []
  }
 ],
 "metadata": {
  "kernelspec": {
   "display_name": "Python 3 (ipykernel)",
   "language": "python",
   "name": "python3"
  },
  "language_info": {
   "codemirror_mode": {
    "name": "ipython",
    "version": 3
   },
   "file_extension": ".py",
   "mimetype": "text/x-python",
   "name": "python",
   "nbconvert_exporter": "python",
   "pygments_lexer": "ipython3",
   "version": "3.13.2"
  }
 },
 "nbformat": 4,
 "nbformat_minor": 4
}
