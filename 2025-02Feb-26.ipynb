{
 "cells": [
  {
   "cell_type": "markdown",
   "metadata": {},
   "source": [
    "# Agenda, day 2\n",
    "\n",
    "1. Recap + Q&A\n",
    "2. Exercise to warm things up\n",
    "3. Magic methods\n",
    "4. Attributes -- instance attributes and class attributes\n",
    "5. How Python finds attributes via ICPO\n",
    "6. Inheritance -- what it is, and how it works\n",
    "7. Where to go from here?"
   ]
  },
  {
   "cell_type": "markdown",
   "metadata": {},
   "source": [
    "# Object-oriented recap\n",
    "\n",
    "The point of object-oriented programming is to create new types of data structures. These are built on top of the existing Python data structures, but because they do specialized things and have specific names, they are easier for us to think about and work with. We can create any number of new data types, and each type we create can have its own storage (attributes) and actions (methods).\n",
    "\n",
    "But at the end of the day, anything we can do with objects, we can *also* do without objects. So what's the advantage?\n",
    "\n",
    "- By putting those low-level data structures (e.g., strings, ints, lists, dicts) inside of a class, we can think about and reason about our data at a higher level. This frees our mind to think about more important/interesting things, and also means that we can use an existing class in a new class."
   ]
  }
 ],
 "metadata": {
  "kernelspec": {
   "display_name": "Python 3 (ipykernel)",
   "language": "python",
   "name": "python3"
  },
  "language_info": {
   "codemirror_mode": {
    "name": "ipython",
    "version": 3
   },
   "file_extension": ".py",
   "mimetype": "text/x-python",
   "name": "python",
   "nbconvert_exporter": "python",
   "pygments_lexer": "ipython3",
   "version": "3.13.2"
  }
 },
 "nbformat": 4,
 "nbformat_minor": 4
}
