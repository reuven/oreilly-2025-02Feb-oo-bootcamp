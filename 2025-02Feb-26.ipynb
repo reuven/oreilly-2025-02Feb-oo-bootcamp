{
 "cells": [
  {
   "cell_type": "markdown",
   "metadata": {},
   "source": [
    "# Agenda, day 2\n",
    "\n",
    "1. Recap + Q&A\n",
    "2. Exercise to warm things up\n",
    "3. Magic methods\n",
    "4. Attributes -- instance attributes and class attributes\n",
    "5. How Python finds attributes via ICPO\n",
    "6. Inheritance -- what it is, and how it works\n",
    "7. Where to go from here?"
   ]
  },
  {
   "cell_type": "markdown",
   "metadata": {},
   "source": [
    "# Object-oriented recap\n",
    "\n",
    "The point of object-oriented programming is to create new types of data structures. These are built on top of the existing Python data structures, but because they do specialized things and have specific names, they are easier for us to think about and work with. We can create any number of new data types, and each type we create can have its own storage (attributes) and actions (methods).\n",
    "\n",
    "But at the end of the day, anything we can do with objects, we can *also* do without objects. So what's the advantage?\n",
    "\n",
    "- By putting those low-level data structures (e.g., strings, ints, lists, dicts) inside of a class, we can think about and reason about our data at a higher level. This frees our mind to think about more important/interesting things, and also means that we can use an existing class in a new class. It's easier to think of several `Scoop` objects in a `Bowl` than several string objects in a list.\n",
    "- Methods are defined on the class, which means that they are tightly bound to a particular type of data. This contrasts with normal functions, which aren't connected to any data structure. This means that if we call a method on a value, Python will quickly tell us if the method exists for that object, or if it's undefined.\n",
    "- We'll define classes (which are data types). A class is a factory for new objects of a particular type. So `str` is the string type, which creates new string objects. And `dict` is the dictionary type, which creates new dictionaries. Each object we create of a particular type is known as an \"instance.\"\n",
    "- The most important method in a class is `__init__`. Its job is to add attributes to the newly created object, just after it is created and before it's returned to the caller. If you don't plan to have any storage or state in your object, then you don't need to define `__init__`. However, it's pretty rare not to define it at all.\n",
    "- `__init__`, like all methods in Python, gets the instance passed to the first parameter, which we normally call `self`. This gives us a way to retrieve values from the instance and also to assign values to the instance -- both via attributes. So we can say `self.x` to retrieve the `x` attribute from `self`, but we can also assign to `self.x` to store a value on that attribute, on that object.\n",
    "- You can think of attributes as a private dictionary (with different syntax) for a given object. Any attribute you set on `self` belongs to that instance, and that instance alone. There isn't any way to say, \"All objects of type X must have attribute Y.\" Instead, in `X.__init__`, we assign to `self.Y`, and that ensures that every new object has `Y` defined before it is returned to the caller.\n",
    "- It's a very good idea to assign to all attributes in "
   ]
  }
 ],
 "metadata": {
  "kernelspec": {
   "display_name": "Python 3 (ipykernel)",
   "language": "python",
   "name": "python3"
  },
  "language_info": {
   "codemirror_mode": {
    "name": "ipython",
    "version": 3
   },
   "file_extension": ".py",
   "mimetype": "text/x-python",
   "name": "python",
   "nbconvert_exporter": "python",
   "pygments_lexer": "ipython3",
   "version": "3.13.2"
  }
 },
 "nbformat": 4,
 "nbformat_minor": 4
}
